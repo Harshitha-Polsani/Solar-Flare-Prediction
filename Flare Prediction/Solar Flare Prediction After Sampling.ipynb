{
 "cells": [
  {
   "cell_type": "code",
   "execution_count": 1,
   "id": "f1e424a7",
   "metadata": {
    "scrolled": true
   },
   "outputs": [
    {
     "data": {
      "text/html": [
       "<div>\n",
       "<style scoped>\n",
       "    .dataframe tbody tr th:only-of-type {\n",
       "        vertical-align: middle;\n",
       "    }\n",
       "\n",
       "    .dataframe tbody tr th {\n",
       "        vertical-align: top;\n",
       "    }\n",
       "\n",
       "    .dataframe thead th {\n",
       "        text-align: right;\n",
       "    }\n",
       "</style>\n",
       "<table border=\"1\" class=\"dataframe\">\n",
       "  <thead>\n",
       "    <tr style=\"text-align: right;\">\n",
       "      <th></th>\n",
       "      <th>Flare Class</th>\n",
       "      <th>fdate</th>\n",
       "      <th>noaaar</th>\n",
       "      <th>TOTUSJH</th>\n",
       "      <th>TOTBSQ</th>\n",
       "      <th>TOTPOT</th>\n",
       "      <th>TOTUSJZ</th>\n",
       "      <th>ABSNJZH</th>\n",
       "      <th>SAVNCPP</th>\n",
       "      <th>USFLUX</th>\n",
       "      <th>AREA_ACR</th>\n",
       "      <th>TOTFZ</th>\n",
       "      <th>MEANPOT</th>\n",
       "      <th>R_VALUE</th>\n",
       "      <th>EPSZ</th>\n",
       "      <th>SHRGT45</th>\n",
       "    </tr>\n",
       "  </thead>\n",
       "  <tbody>\n",
       "    <tr>\n",
       "      <th>35</th>\n",
       "      <td>C24</td>\n",
       "      <td>4/22/2012 0:10</td>\n",
       "      <td>11465</td>\n",
       "      <td>1260.150</td>\n",
       "      <td>2.242000e+10</td>\n",
       "      <td>3.970000e+23</td>\n",
       "      <td>2.830000e+13</td>\n",
       "      <td>19.381</td>\n",
       "      <td>7.030000e+12</td>\n",
       "      <td>1.480000e+22</td>\n",
       "      <td>575.300</td>\n",
       "      <td>-837.03</td>\n",
       "      <td>12251.60</td>\n",
       "      <td>4.413</td>\n",
       "      <td>-0.0708</td>\n",
       "      <td>52.750</td>\n",
       "    </tr>\n",
       "    <tr>\n",
       "      <th>36</th>\n",
       "      <td>C24</td>\n",
       "      <td>4/27/2012 0:10</td>\n",
       "      <td>11465</td>\n",
       "      <td>1094.050</td>\n",
       "      <td>1.560500e+10</td>\n",
       "      <td>2.520000e+23</td>\n",
       "      <td>2.450000e+13</td>\n",
       "      <td>412.788</td>\n",
       "      <td>1.950000e+13</td>\n",
       "      <td>1.470000e+22</td>\n",
       "      <td>543.877</td>\n",
       "      <td>-1310.00</td>\n",
       "      <td>7055.95</td>\n",
       "      <td>4.016</td>\n",
       "      <td>-0.1592</td>\n",
       "      <td>36.680</td>\n",
       "    </tr>\n",
       "    <tr>\n",
       "      <th>37</th>\n",
       "      <td>C20</td>\n",
       "      <td>4/27/2012 0:10</td>\n",
       "      <td>11467</td>\n",
       "      <td>532.130</td>\n",
       "      <td>8.285100e+09</td>\n",
       "      <td>5.850000e+22</td>\n",
       "      <td>1.100000e+13</td>\n",
       "      <td>112.787</td>\n",
       "      <td>4.990000e+12</td>\n",
       "      <td>8.330000e+21</td>\n",
       "      <td>264.399</td>\n",
       "      <td>-1397.20</td>\n",
       "      <td>3235.29</td>\n",
       "      <td>3.779</td>\n",
       "      <td>-0.3199</td>\n",
       "      <td>10.959</td>\n",
       "    </tr>\n",
       "    <tr>\n",
       "      <th>38</th>\n",
       "      <td>C11</td>\n",
       "      <td>4/28/2012 0:10</td>\n",
       "      <td>11467</td>\n",
       "      <td>429.988</td>\n",
       "      <td>6.009600e+09</td>\n",
       "      <td>3.450000e+22</td>\n",
       "      <td>9.900000e+12</td>\n",
       "      <td>106.824</td>\n",
       "      <td>4.090000e+12</td>\n",
       "      <td>5.840000e+21</td>\n",
       "      <td>274.060</td>\n",
       "      <td>-700.12</td>\n",
       "      <td>2512.23</td>\n",
       "      <td>3.557</td>\n",
       "      <td>-0.2210</td>\n",
       "      <td>15.092</td>\n",
       "    </tr>\n",
       "    <tr>\n",
       "      <th>39</th>\n",
       "      <td>C10</td>\n",
       "      <td>4/27/2012 0:10</td>\n",
       "      <td>11469</td>\n",
       "      <td>709.246</td>\n",
       "      <td>1.589700e+10</td>\n",
       "      <td>5.070000e+22</td>\n",
       "      <td>1.750000e+13</td>\n",
       "      <td>7.603</td>\n",
       "      <td>1.460000e+12</td>\n",
       "      <td>1.300000e+22</td>\n",
       "      <td>445.587</td>\n",
       "      <td>-824.99</td>\n",
       "      <td>1645.96</td>\n",
       "      <td>2.777</td>\n",
       "      <td>-0.0984</td>\n",
       "      <td>5.885</td>\n",
       "    </tr>\n",
       "  </tbody>\n",
       "</table>\n",
       "</div>"
      ],
      "text/plain": [
       "   Flare Class           fdate  noaaar   TOTUSJH        TOTBSQ        TOTPOT  \\\n",
       "35         C24  4/22/2012 0:10   11465  1260.150  2.242000e+10  3.970000e+23   \n",
       "36         C24  4/27/2012 0:10   11465  1094.050  1.560500e+10  2.520000e+23   \n",
       "37         C20  4/27/2012 0:10   11467   532.130  8.285100e+09  5.850000e+22   \n",
       "38         C11  4/28/2012 0:10   11467   429.988  6.009600e+09  3.450000e+22   \n",
       "39         C10  4/27/2012 0:10   11469   709.246  1.589700e+10  5.070000e+22   \n",
       "\n",
       "         TOTUSJZ  ABSNJZH       SAVNCPP        USFLUX  AREA_ACR    TOTFZ  \\\n",
       "35  2.830000e+13   19.381  7.030000e+12  1.480000e+22   575.300  -837.03   \n",
       "36  2.450000e+13  412.788  1.950000e+13  1.470000e+22   543.877 -1310.00   \n",
       "37  1.100000e+13  112.787  4.990000e+12  8.330000e+21   264.399 -1397.20   \n",
       "38  9.900000e+12  106.824  4.090000e+12  5.840000e+21   274.060  -700.12   \n",
       "39  1.750000e+13    7.603  1.460000e+12  1.300000e+22   445.587  -824.99   \n",
       "\n",
       "     MEANPOT  R_VALUE    EPSZ  SHRGT45  \n",
       "35  12251.60    4.413 -0.0708   52.750  \n",
       "36   7055.95    4.016 -0.1592   36.680  \n",
       "37   3235.29    3.779 -0.3199   10.959  \n",
       "38   2512.23    3.557 -0.2210   15.092  \n",
       "39   1645.96    2.777 -0.0984    5.885  "
      ]
     },
     "execution_count": 1,
     "metadata": {},
     "output_type": "execute_result"
    }
   ],
   "source": [
    "import pandas as pd\n",
    "\n",
    "train_data = pd.read_csv(\"flaringar_original_data.csv\")\n",
    "test_data = pd.read_csv(\"flaringar_simple_random_40.csv\")\n",
    "test_data.tail()"
   ]
  },
  {
   "cell_type": "code",
   "execution_count": 2,
   "id": "b68d951c",
   "metadata": {},
   "outputs": [
    {
     "data": {
      "text/html": [
       "<div>\n",
       "<style scoped>\n",
       "    .dataframe tbody tr th:only-of-type {\n",
       "        vertical-align: middle;\n",
       "    }\n",
       "\n",
       "    .dataframe tbody tr th {\n",
       "        vertical-align: top;\n",
       "    }\n",
       "\n",
       "    .dataframe thead th {\n",
       "        text-align: right;\n",
       "    }\n",
       "</style>\n",
       "<table border=\"1\" class=\"dataframe\">\n",
       "  <thead>\n",
       "    <tr style=\"text-align: right;\">\n",
       "      <th></th>\n",
       "      <th>Flare Class</th>\n",
       "      <th>Flare Date</th>\n",
       "      <th>AR</th>\n",
       "      <th>TOTUSJH</th>\n",
       "      <th>TOTBSQ</th>\n",
       "      <th>TOTPOT</th>\n",
       "      <th>TOTUSJZ</th>\n",
       "      <th>ABSNJZH</th>\n",
       "      <th>SAVNCPP</th>\n",
       "      <th>USFLUX</th>\n",
       "      <th>AREA_ACR</th>\n",
       "      <th>TOTFZ</th>\n",
       "      <th>MEANPOT</th>\n",
       "      <th>R_VALUE</th>\n",
       "      <th>EPSZ</th>\n",
       "      <th>SHRGT45</th>\n",
       "    </tr>\n",
       "  </thead>\n",
       "  <tbody>\n",
       "    <tr>\n",
       "      <th>840</th>\n",
       "      <td>B42</td>\n",
       "      <td>11/15/2016 0:10</td>\n",
       "      <td>12610</td>\n",
       "      <td>191.660</td>\n",
       "      <td>2.753200e+09</td>\n",
       "      <td>1.600000e+22</td>\n",
       "      <td>3.697490e+12</td>\n",
       "      <td>14.317</td>\n",
       "      <td>1.201620e+12</td>\n",
       "      <td>1.850000e+21</td>\n",
       "      <td>196.69000</td>\n",
       "      <td>-89.5280</td>\n",
       "      <td>3684.01</td>\n",
       "      <td>3.219</td>\n",
       "      <td>-0.0617</td>\n",
       "      <td>23.996</td>\n",
       "    </tr>\n",
       "    <tr>\n",
       "      <th>841</th>\n",
       "      <td>B19</td>\n",
       "      <td>11/19/2016 0:10</td>\n",
       "      <td>12611</td>\n",
       "      <td>453.274</td>\n",
       "      <td>4.039000e+09</td>\n",
       "      <td>2.450000e+22</td>\n",
       "      <td>9.979400e+12</td>\n",
       "      <td>140.312</td>\n",
       "      <td>6.265800e+12</td>\n",
       "      <td>4.280000e+21</td>\n",
       "      <td>159.16700</td>\n",
       "      <td>-742.7900</td>\n",
       "      <td>2668.60</td>\n",
       "      <td>3.011</td>\n",
       "      <td>-0.3488</td>\n",
       "      <td>10.699</td>\n",
       "    </tr>\n",
       "    <tr>\n",
       "      <th>842</th>\n",
       "      <td>B39</td>\n",
       "      <td>11/30/2016 0:10</td>\n",
       "      <td>12614</td>\n",
       "      <td>330.547</td>\n",
       "      <td>4.944100e+09</td>\n",
       "      <td>6.020000e+22</td>\n",
       "      <td>6.738150e+12</td>\n",
       "      <td>83.429</td>\n",
       "      <td>1.788770e+12</td>\n",
       "      <td>3.830000e+21</td>\n",
       "      <td>195.09700</td>\n",
       "      <td>-389.4300</td>\n",
       "      <td>7298.23</td>\n",
       "      <td>3.302</td>\n",
       "      <td>-0.1494</td>\n",
       "      <td>41.723</td>\n",
       "    </tr>\n",
       "    <tr>\n",
       "      <th>843</th>\n",
       "      <td>B11</td>\n",
       "      <td>12/11/2016 13:58</td>\n",
       "      <td>12617</td>\n",
       "      <td>26.477</td>\n",
       "      <td>1.021300e+09</td>\n",
       "      <td>7.490000e+20</td>\n",
       "      <td>3.684500e+11</td>\n",
       "      <td>12.193</td>\n",
       "      <td>2.752780e+11</td>\n",
       "      <td>1.860000e+20</td>\n",
       "      <td>9.81402</td>\n",
       "      <td>-9.2336</td>\n",
       "      <td>2420.74</td>\n",
       "      <td>2.946</td>\n",
       "      <td>-0.0172</td>\n",
       "      <td>5.150</td>\n",
       "    </tr>\n",
       "    <tr>\n",
       "      <th>844</th>\n",
       "      <td>B16</td>\n",
       "      <td>12/27/2016 0:10</td>\n",
       "      <td>12621</td>\n",
       "      <td>487.186</td>\n",
       "      <td>3.863200e+09</td>\n",
       "      <td>4.800000e+22</td>\n",
       "      <td>1.028270e+13</td>\n",
       "      <td>50.024</td>\n",
       "      <td>1.761570e+12</td>\n",
       "      <td>3.330000e+21</td>\n",
       "      <td>113.35000</td>\n",
       "      <td>-438.1500</td>\n",
       "      <td>6530.75</td>\n",
       "      <td>3.926</td>\n",
       "      <td>-0.2151</td>\n",
       "      <td>30.796</td>\n",
       "    </tr>\n",
       "  </tbody>\n",
       "</table>\n",
       "</div>"
      ],
      "text/plain": [
       "    Flare Class        Flare Date     AR  TOTUSJH        TOTBSQ        TOTPOT  \\\n",
       "840         B42   11/15/2016 0:10  12610  191.660  2.753200e+09  1.600000e+22   \n",
       "841         B19   11/19/2016 0:10  12611  453.274  4.039000e+09  2.450000e+22   \n",
       "842         B39   11/30/2016 0:10  12614  330.547  4.944100e+09  6.020000e+22   \n",
       "843         B11  12/11/2016 13:58  12617   26.477  1.021300e+09  7.490000e+20   \n",
       "844         B16   12/27/2016 0:10  12621  487.186  3.863200e+09  4.800000e+22   \n",
       "\n",
       "          TOTUSJZ  ABSNJZH       SAVNCPP        USFLUX   AREA_ACR     TOTFZ  \\\n",
       "840  3.697490e+12   14.317  1.201620e+12  1.850000e+21  196.69000  -89.5280   \n",
       "841  9.979400e+12  140.312  6.265800e+12  4.280000e+21  159.16700 -742.7900   \n",
       "842  6.738150e+12   83.429  1.788770e+12  3.830000e+21  195.09700 -389.4300   \n",
       "843  3.684500e+11   12.193  2.752780e+11  1.860000e+20    9.81402   -9.2336   \n",
       "844  1.028270e+13   50.024  1.761570e+12  3.330000e+21  113.35000 -438.1500   \n",
       "\n",
       "     MEANPOT  R_VALUE    EPSZ  SHRGT45  \n",
       "840  3684.01    3.219 -0.0617   23.996  \n",
       "841  2668.60    3.011 -0.3488   10.699  \n",
       "842  7298.23    3.302 -0.1494   41.723  \n",
       "843  2420.74    2.946 -0.0172    5.150  \n",
       "844  6530.75    3.926 -0.2151   30.796  "
      ]
     },
     "execution_count": 2,
     "metadata": {},
     "output_type": "execute_result"
    }
   ],
   "source": [
    "train_data.tail()"
   ]
  },
  {
   "cell_type": "code",
   "execution_count": 3,
   "id": "ccd2a9ab",
   "metadata": {},
   "outputs": [
    {
     "data": {
      "text/html": [
       "<div>\n",
       "<style scoped>\n",
       "    .dataframe tbody tr th:only-of-type {\n",
       "        vertical-align: middle;\n",
       "    }\n",
       "\n",
       "    .dataframe tbody tr th {\n",
       "        vertical-align: top;\n",
       "    }\n",
       "\n",
       "    .dataframe thead th {\n",
       "        text-align: right;\n",
       "    }\n",
       "</style>\n",
       "<table border=\"1\" class=\"dataframe\">\n",
       "  <thead>\n",
       "    <tr style=\"text-align: right;\">\n",
       "      <th></th>\n",
       "      <th>Flare Class</th>\n",
       "      <th>TOTUSJH</th>\n",
       "      <th>TOTBSQ</th>\n",
       "      <th>TOTPOT</th>\n",
       "      <th>TOTUSJZ</th>\n",
       "      <th>ABSNJZH</th>\n",
       "      <th>SAVNCPP</th>\n",
       "      <th>USFLUX</th>\n",
       "      <th>AREA_ACR</th>\n",
       "      <th>TOTFZ</th>\n",
       "      <th>MEANPOT</th>\n",
       "      <th>R_VALUE</th>\n",
       "      <th>EPSZ</th>\n",
       "      <th>SHRGT45</th>\n",
       "    </tr>\n",
       "  </thead>\n",
       "  <tbody>\n",
       "    <tr>\n",
       "      <th>0</th>\n",
       "      <td>X</td>\n",
       "      <td>3249.07</td>\n",
       "      <td>4.181500e+10</td>\n",
       "      <td>8.600000e+23</td>\n",
       "      <td>6.213300e+13</td>\n",
       "      <td>700.682</td>\n",
       "      <td>1.489950e+13</td>\n",
       "      <td>2.740000e+22</td>\n",
       "      <td>1103.97</td>\n",
       "      <td>-552.89</td>\n",
       "      <td>14038.00</td>\n",
       "      <td>4.820</td>\n",
       "      <td>-0.0251</td>\n",
       "      <td>59.489</td>\n",
       "    </tr>\n",
       "    <tr>\n",
       "      <th>1</th>\n",
       "      <td>X</td>\n",
       "      <td>3176.31</td>\n",
       "      <td>4.778200e+10</td>\n",
       "      <td>9.660000e+23</td>\n",
       "      <td>6.931420e+13</td>\n",
       "      <td>157.759</td>\n",
       "      <td>9.905710e+12</td>\n",
       "      <td>3.180000e+22</td>\n",
       "      <td>1400.93</td>\n",
       "      <td>-869.70</td>\n",
       "      <td>13463.60</td>\n",
       "      <td>4.825</td>\n",
       "      <td>-0.0345</td>\n",
       "      <td>55.222</td>\n",
       "    </tr>\n",
       "    <tr>\n",
       "      <th>2</th>\n",
       "      <td>X</td>\n",
       "      <td>1892.92</td>\n",
       "      <td>2.667300e+10</td>\n",
       "      <td>3.720000e+23</td>\n",
       "      <td>4.211730e+13</td>\n",
       "      <td>171.952</td>\n",
       "      <td>6.528880e+12</td>\n",
       "      <td>1.890000e+22</td>\n",
       "      <td>1370.85</td>\n",
       "      <td>-231.29</td>\n",
       "      <td>7496.19</td>\n",
       "      <td>4.438</td>\n",
       "      <td>-0.0164</td>\n",
       "      <td>42.934</td>\n",
       "    </tr>\n",
       "    <tr>\n",
       "      <th>3</th>\n",
       "      <td>X</td>\n",
       "      <td>1868.82</td>\n",
       "      <td>2.450900e+10</td>\n",
       "      <td>3.480000e+23</td>\n",
       "      <td>3.628930e+13</td>\n",
       "      <td>429.602</td>\n",
       "      <td>2.118070e+13</td>\n",
       "      <td>1.730000e+22</td>\n",
       "      <td>1198.60</td>\n",
       "      <td>-317.56</td>\n",
       "      <td>8669.42</td>\n",
       "      <td>4.319</td>\n",
       "      <td>-0.0246</td>\n",
       "      <td>35.944</td>\n",
       "    </tr>\n",
       "    <tr>\n",
       "      <th>4</th>\n",
       "      <td>X</td>\n",
       "      <td>5271.77</td>\n",
       "      <td>1.022900e+11</td>\n",
       "      <td>1.920000e+24</td>\n",
       "      <td>8.689800e+13</td>\n",
       "      <td>1066.250</td>\n",
       "      <td>1.611780e+13</td>\n",
       "      <td>6.440000e+22</td>\n",
       "      <td>1939.06</td>\n",
       "      <td>-6162.10</td>\n",
       "      <td>16094.80</td>\n",
       "      <td>4.912</td>\n",
       "      <td>-0.1143</td>\n",
       "      <td>41.102</td>\n",
       "    </tr>\n",
       "  </tbody>\n",
       "</table>\n",
       "</div>"
      ],
      "text/plain": [
       "  Flare Class  TOTUSJH        TOTBSQ        TOTPOT       TOTUSJZ   ABSNJZH  \\\n",
       "0           X  3249.07  4.181500e+10  8.600000e+23  6.213300e+13   700.682   \n",
       "1           X  3176.31  4.778200e+10  9.660000e+23  6.931420e+13   157.759   \n",
       "2           X  1892.92  2.667300e+10  3.720000e+23  4.211730e+13   171.952   \n",
       "3           X  1868.82  2.450900e+10  3.480000e+23  3.628930e+13   429.602   \n",
       "4           X  5271.77  1.022900e+11  1.920000e+24  8.689800e+13  1066.250   \n",
       "\n",
       "        SAVNCPP        USFLUX  AREA_ACR    TOTFZ   MEANPOT  R_VALUE    EPSZ  \\\n",
       "0  1.489950e+13  2.740000e+22   1103.97  -552.89  14038.00    4.820 -0.0251   \n",
       "1  9.905710e+12  3.180000e+22   1400.93  -869.70  13463.60    4.825 -0.0345   \n",
       "2  6.528880e+12  1.890000e+22   1370.85  -231.29   7496.19    4.438 -0.0164   \n",
       "3  2.118070e+13  1.730000e+22   1198.60  -317.56   8669.42    4.319 -0.0246   \n",
       "4  1.611780e+13  6.440000e+22   1939.06 -6162.10  16094.80    4.912 -0.1143   \n",
       "\n",
       "   SHRGT45  \n",
       "0   59.489  \n",
       "1   55.222  \n",
       "2   42.934  \n",
       "3   35.944  \n",
       "4   41.102  "
      ]
     },
     "execution_count": 3,
     "metadata": {},
     "output_type": "execute_result"
    }
   ],
   "source": [
    "train = train_data.copy()\n",
    "\n",
    "def f(string):\n",
    "    return string[0]\n",
    "train['Flare Class'] = train['Flare Class'].apply(f)\n",
    "\n",
    "\n",
    "del train['Flare Date']\n",
    "del train['AR']\n",
    "\n",
    "train.head()"
   ]
  },
  {
   "cell_type": "code",
   "execution_count": 4,
   "id": "536b90bb",
   "metadata": {},
   "outputs": [
    {
     "data": {
      "text/html": [
       "<div>\n",
       "<style scoped>\n",
       "    .dataframe tbody tr th:only-of-type {\n",
       "        vertical-align: middle;\n",
       "    }\n",
       "\n",
       "    .dataframe tbody tr th {\n",
       "        vertical-align: top;\n",
       "    }\n",
       "\n",
       "    .dataframe thead th {\n",
       "        text-align: right;\n",
       "    }\n",
       "</style>\n",
       "<table border=\"1\" class=\"dataframe\">\n",
       "  <thead>\n",
       "    <tr style=\"text-align: right;\">\n",
       "      <th></th>\n",
       "      <th>Flare Class</th>\n",
       "      <th>TOTUSJH</th>\n",
       "      <th>TOTBSQ</th>\n",
       "      <th>TOTPOT</th>\n",
       "      <th>TOTUSJZ</th>\n",
       "      <th>ABSNJZH</th>\n",
       "      <th>SAVNCPP</th>\n",
       "      <th>USFLUX</th>\n",
       "      <th>AREA_ACR</th>\n",
       "      <th>TOTFZ</th>\n",
       "      <th>MEANPOT</th>\n",
       "      <th>R_VALUE</th>\n",
       "      <th>EPSZ</th>\n",
       "      <th>SHRGT45</th>\n",
       "    </tr>\n",
       "  </thead>\n",
       "  <tbody>\n",
       "    <tr>\n",
       "      <th>0</th>\n",
       "      <td>X</td>\n",
       "      <td>3249.070</td>\n",
       "      <td>4.181500e+10</td>\n",
       "      <td>8.600000e+23</td>\n",
       "      <td>6.213300e+13</td>\n",
       "      <td>700.682</td>\n",
       "      <td>1.489950e+13</td>\n",
       "      <td>2.740000e+22</td>\n",
       "      <td>1103.97000</td>\n",
       "      <td>-552.8900</td>\n",
       "      <td>14038.00</td>\n",
       "      <td>4.820</td>\n",
       "      <td>-0.0251</td>\n",
       "      <td>59.489</td>\n",
       "    </tr>\n",
       "    <tr>\n",
       "      <th>1</th>\n",
       "      <td>X</td>\n",
       "      <td>3176.310</td>\n",
       "      <td>4.778200e+10</td>\n",
       "      <td>9.660000e+23</td>\n",
       "      <td>6.931420e+13</td>\n",
       "      <td>157.759</td>\n",
       "      <td>9.905710e+12</td>\n",
       "      <td>3.180000e+22</td>\n",
       "      <td>1400.93000</td>\n",
       "      <td>-869.7000</td>\n",
       "      <td>13463.60</td>\n",
       "      <td>4.825</td>\n",
       "      <td>-0.0345</td>\n",
       "      <td>55.222</td>\n",
       "    </tr>\n",
       "    <tr>\n",
       "      <th>2</th>\n",
       "      <td>X</td>\n",
       "      <td>1892.920</td>\n",
       "      <td>2.667300e+10</td>\n",
       "      <td>3.720000e+23</td>\n",
       "      <td>4.211730e+13</td>\n",
       "      <td>171.952</td>\n",
       "      <td>6.528880e+12</td>\n",
       "      <td>1.890000e+22</td>\n",
       "      <td>1370.85000</td>\n",
       "      <td>-231.2900</td>\n",
       "      <td>7496.19</td>\n",
       "      <td>4.438</td>\n",
       "      <td>-0.0164</td>\n",
       "      <td>42.934</td>\n",
       "    </tr>\n",
       "    <tr>\n",
       "      <th>3</th>\n",
       "      <td>X</td>\n",
       "      <td>1868.820</td>\n",
       "      <td>2.450900e+10</td>\n",
       "      <td>3.480000e+23</td>\n",
       "      <td>3.628930e+13</td>\n",
       "      <td>429.602</td>\n",
       "      <td>2.118070e+13</td>\n",
       "      <td>1.730000e+22</td>\n",
       "      <td>1198.60000</td>\n",
       "      <td>-317.5600</td>\n",
       "      <td>8669.42</td>\n",
       "      <td>4.319</td>\n",
       "      <td>-0.0246</td>\n",
       "      <td>35.944</td>\n",
       "    </tr>\n",
       "    <tr>\n",
       "      <th>4</th>\n",
       "      <td>X</td>\n",
       "      <td>5271.770</td>\n",
       "      <td>1.022900e+11</td>\n",
       "      <td>1.920000e+24</td>\n",
       "      <td>8.689800e+13</td>\n",
       "      <td>1066.250</td>\n",
       "      <td>1.611780e+13</td>\n",
       "      <td>6.440000e+22</td>\n",
       "      <td>1939.06000</td>\n",
       "      <td>-6162.1000</td>\n",
       "      <td>16094.80</td>\n",
       "      <td>4.912</td>\n",
       "      <td>-0.1143</td>\n",
       "      <td>41.102</td>\n",
       "    </tr>\n",
       "    <tr>\n",
       "      <th>...</th>\n",
       "      <td>...</td>\n",
       "      <td>...</td>\n",
       "      <td>...</td>\n",
       "      <td>...</td>\n",
       "      <td>...</td>\n",
       "      <td>...</td>\n",
       "      <td>...</td>\n",
       "      <td>...</td>\n",
       "      <td>...</td>\n",
       "      <td>...</td>\n",
       "      <td>...</td>\n",
       "      <td>...</td>\n",
       "      <td>...</td>\n",
       "      <td>...</td>\n",
       "    </tr>\n",
       "    <tr>\n",
       "      <th>840</th>\n",
       "      <td>B</td>\n",
       "      <td>191.660</td>\n",
       "      <td>2.753200e+09</td>\n",
       "      <td>1.600000e+22</td>\n",
       "      <td>3.697490e+12</td>\n",
       "      <td>14.317</td>\n",
       "      <td>1.201620e+12</td>\n",
       "      <td>1.850000e+21</td>\n",
       "      <td>196.69000</td>\n",
       "      <td>-89.5280</td>\n",
       "      <td>3684.01</td>\n",
       "      <td>3.219</td>\n",
       "      <td>-0.0617</td>\n",
       "      <td>23.996</td>\n",
       "    </tr>\n",
       "    <tr>\n",
       "      <th>841</th>\n",
       "      <td>B</td>\n",
       "      <td>453.274</td>\n",
       "      <td>4.039000e+09</td>\n",
       "      <td>2.450000e+22</td>\n",
       "      <td>9.979400e+12</td>\n",
       "      <td>140.312</td>\n",
       "      <td>6.265800e+12</td>\n",
       "      <td>4.280000e+21</td>\n",
       "      <td>159.16700</td>\n",
       "      <td>-742.7900</td>\n",
       "      <td>2668.60</td>\n",
       "      <td>3.011</td>\n",
       "      <td>-0.3488</td>\n",
       "      <td>10.699</td>\n",
       "    </tr>\n",
       "    <tr>\n",
       "      <th>842</th>\n",
       "      <td>B</td>\n",
       "      <td>330.547</td>\n",
       "      <td>4.944100e+09</td>\n",
       "      <td>6.020000e+22</td>\n",
       "      <td>6.738150e+12</td>\n",
       "      <td>83.429</td>\n",
       "      <td>1.788770e+12</td>\n",
       "      <td>3.830000e+21</td>\n",
       "      <td>195.09700</td>\n",
       "      <td>-389.4300</td>\n",
       "      <td>7298.23</td>\n",
       "      <td>3.302</td>\n",
       "      <td>-0.1494</td>\n",
       "      <td>41.723</td>\n",
       "    </tr>\n",
       "    <tr>\n",
       "      <th>843</th>\n",
       "      <td>B</td>\n",
       "      <td>26.477</td>\n",
       "      <td>1.021300e+09</td>\n",
       "      <td>7.490000e+20</td>\n",
       "      <td>3.684500e+11</td>\n",
       "      <td>12.193</td>\n",
       "      <td>2.752780e+11</td>\n",
       "      <td>1.860000e+20</td>\n",
       "      <td>9.81402</td>\n",
       "      <td>-9.2336</td>\n",
       "      <td>2420.74</td>\n",
       "      <td>2.946</td>\n",
       "      <td>-0.0172</td>\n",
       "      <td>5.150</td>\n",
       "    </tr>\n",
       "    <tr>\n",
       "      <th>844</th>\n",
       "      <td>B</td>\n",
       "      <td>487.186</td>\n",
       "      <td>3.863200e+09</td>\n",
       "      <td>4.800000e+22</td>\n",
       "      <td>1.028270e+13</td>\n",
       "      <td>50.024</td>\n",
       "      <td>1.761570e+12</td>\n",
       "      <td>3.330000e+21</td>\n",
       "      <td>113.35000</td>\n",
       "      <td>-438.1500</td>\n",
       "      <td>6530.75</td>\n",
       "      <td>3.926</td>\n",
       "      <td>-0.2151</td>\n",
       "      <td>30.796</td>\n",
       "    </tr>\n",
       "  </tbody>\n",
       "</table>\n",
       "<p>845 rows × 14 columns</p>\n",
       "</div>"
      ],
      "text/plain": [
       "    Flare Class   TOTUSJH        TOTBSQ        TOTPOT       TOTUSJZ   ABSNJZH  \\\n",
       "0             X  3249.070  4.181500e+10  8.600000e+23  6.213300e+13   700.682   \n",
       "1             X  3176.310  4.778200e+10  9.660000e+23  6.931420e+13   157.759   \n",
       "2             X  1892.920  2.667300e+10  3.720000e+23  4.211730e+13   171.952   \n",
       "3             X  1868.820  2.450900e+10  3.480000e+23  3.628930e+13   429.602   \n",
       "4             X  5271.770  1.022900e+11  1.920000e+24  8.689800e+13  1066.250   \n",
       "..          ...       ...           ...           ...           ...       ...   \n",
       "840           B   191.660  2.753200e+09  1.600000e+22  3.697490e+12    14.317   \n",
       "841           B   453.274  4.039000e+09  2.450000e+22  9.979400e+12   140.312   \n",
       "842           B   330.547  4.944100e+09  6.020000e+22  6.738150e+12    83.429   \n",
       "843           B    26.477  1.021300e+09  7.490000e+20  3.684500e+11    12.193   \n",
       "844           B   487.186  3.863200e+09  4.800000e+22  1.028270e+13    50.024   \n",
       "\n",
       "          SAVNCPP        USFLUX    AREA_ACR      TOTFZ   MEANPOT  R_VALUE  \\\n",
       "0    1.489950e+13  2.740000e+22  1103.97000  -552.8900  14038.00    4.820   \n",
       "1    9.905710e+12  3.180000e+22  1400.93000  -869.7000  13463.60    4.825   \n",
       "2    6.528880e+12  1.890000e+22  1370.85000  -231.2900   7496.19    4.438   \n",
       "3    2.118070e+13  1.730000e+22  1198.60000  -317.5600   8669.42    4.319   \n",
       "4    1.611780e+13  6.440000e+22  1939.06000 -6162.1000  16094.80    4.912   \n",
       "..            ...           ...         ...        ...       ...      ...   \n",
       "840  1.201620e+12  1.850000e+21   196.69000   -89.5280   3684.01    3.219   \n",
       "841  6.265800e+12  4.280000e+21   159.16700  -742.7900   2668.60    3.011   \n",
       "842  1.788770e+12  3.830000e+21   195.09700  -389.4300   7298.23    3.302   \n",
       "843  2.752780e+11  1.860000e+20     9.81402    -9.2336   2420.74    2.946   \n",
       "844  1.761570e+12  3.330000e+21   113.35000  -438.1500   6530.75    3.926   \n",
       "\n",
       "       EPSZ  SHRGT45  \n",
       "0   -0.0251   59.489  \n",
       "1   -0.0345   55.222  \n",
       "2   -0.0164   42.934  \n",
       "3   -0.0246   35.944  \n",
       "4   -0.1143   41.102  \n",
       "..      ...      ...  \n",
       "840 -0.0617   23.996  \n",
       "841 -0.3488   10.699  \n",
       "842 -0.1494   41.723  \n",
       "843 -0.0172    5.150  \n",
       "844 -0.2151   30.796  \n",
       "\n",
       "[845 rows x 14 columns]"
      ]
     },
     "execution_count": 4,
     "metadata": {},
     "output_type": "execute_result"
    }
   ],
   "source": [
    "train"
   ]
  },
  {
   "cell_type": "code",
   "execution_count": 5,
   "id": "8f06477e",
   "metadata": {},
   "outputs": [],
   "source": [
    "x_train = train.drop(columns = \"Flare Class\")\n",
    "y_train = train['Flare Class']"
   ]
  },
  {
   "cell_type": "code",
   "execution_count": 6,
   "id": "fa6c5097",
   "metadata": {},
   "outputs": [
    {
     "data": {
      "text/plain": [
       "0      X\n",
       "1      X\n",
       "2      X\n",
       "3      X\n",
       "4      X\n",
       "      ..\n",
       "840    B\n",
       "841    B\n",
       "842    B\n",
       "843    B\n",
       "844    B\n",
       "Name: Flare Class, Length: 845, dtype: object"
      ]
     },
     "execution_count": 6,
     "metadata": {},
     "output_type": "execute_result"
    }
   ],
   "source": [
    "y_train"
   ]
  },
  {
   "cell_type": "code",
   "execution_count": 7,
   "id": "ef1c1cf8",
   "metadata": {},
   "outputs": [
    {
     "data": {
      "text/html": [
       "<div>\n",
       "<style scoped>\n",
       "    .dataframe tbody tr th:only-of-type {\n",
       "        vertical-align: middle;\n",
       "    }\n",
       "\n",
       "    .dataframe tbody tr th {\n",
       "        vertical-align: top;\n",
       "    }\n",
       "\n",
       "    .dataframe thead th {\n",
       "        text-align: right;\n",
       "    }\n",
       "</style>\n",
       "<table border=\"1\" class=\"dataframe\">\n",
       "  <thead>\n",
       "    <tr style=\"text-align: right;\">\n",
       "      <th></th>\n",
       "      <th>Flare Class</th>\n",
       "      <th>TOTUSJH</th>\n",
       "      <th>TOTBSQ</th>\n",
       "      <th>TOTPOT</th>\n",
       "      <th>TOTUSJZ</th>\n",
       "      <th>ABSNJZH</th>\n",
       "      <th>SAVNCPP</th>\n",
       "      <th>USFLUX</th>\n",
       "      <th>AREA_ACR</th>\n",
       "      <th>TOTFZ</th>\n",
       "      <th>MEANPOT</th>\n",
       "      <th>R_VALUE</th>\n",
       "      <th>EPSZ</th>\n",
       "      <th>SHRGT45</th>\n",
       "    </tr>\n",
       "  </thead>\n",
       "  <tbody>\n",
       "    <tr>\n",
       "      <th>0</th>\n",
       "      <td>B</td>\n",
       "      <td>55.772</td>\n",
       "      <td>1.020700e+09</td>\n",
       "      <td>5.220000e+21</td>\n",
       "      <td>9.610000e+11</td>\n",
       "      <td>38.849</td>\n",
       "      <td>1.390000e+12</td>\n",
       "      <td>2.820000e+20</td>\n",
       "      <td>13.9159</td>\n",
       "      <td>115.820000</td>\n",
       "      <td>8009.98</td>\n",
       "      <td>3.102</td>\n",
       "      <td>0.2152</td>\n",
       "      <td>51.120</td>\n",
       "    </tr>\n",
       "    <tr>\n",
       "      <th>1</th>\n",
       "      <td>B</td>\n",
       "      <td>41.846</td>\n",
       "      <td>9.579600e+08</td>\n",
       "      <td>1.510000e+21</td>\n",
       "      <td>6.020000e+11</td>\n",
       "      <td>7.576</td>\n",
       "      <td>1.560000e+11</td>\n",
       "      <td>4.180000e+20</td>\n",
       "      <td>63.1692</td>\n",
       "      <td>-57.081000</td>\n",
       "      <td>2358.96</td>\n",
       "      <td>1.908</td>\n",
       "      <td>-0.1130</td>\n",
       "      <td>2.079</td>\n",
       "    </tr>\n",
       "    <tr>\n",
       "      <th>2</th>\n",
       "      <td>M</td>\n",
       "      <td>605.079</td>\n",
       "      <td>8.395900e+09</td>\n",
       "      <td>7.970000e+22</td>\n",
       "      <td>7.560000e+12</td>\n",
       "      <td>295.489</td>\n",
       "      <td>1.160000e+13</td>\n",
       "      <td>5.500000e+21</td>\n",
       "      <td>187.7550</td>\n",
       "      <td>-1069.000000</td>\n",
       "      <td>10742.80</td>\n",
       "      <td>4.173</td>\n",
       "      <td>-0.2415</td>\n",
       "      <td>12.511</td>\n",
       "    </tr>\n",
       "    <tr>\n",
       "      <th>3</th>\n",
       "      <td>B</td>\n",
       "      <td>34.981</td>\n",
       "      <td>1.882500e+09</td>\n",
       "      <td>1.590000e+21</td>\n",
       "      <td>6.240000e+11</td>\n",
       "      <td>1.055</td>\n",
       "      <td>7.150000e+11</td>\n",
       "      <td>4.610000e+20</td>\n",
       "      <td>134.5900</td>\n",
       "      <td>-0.072779</td>\n",
       "      <td>2012.54</td>\n",
       "      <td>2.449</td>\n",
       "      <td>-0.0001</td>\n",
       "      <td>1.010</td>\n",
       "    </tr>\n",
       "    <tr>\n",
       "      <th>4</th>\n",
       "      <td>B</td>\n",
       "      <td>633.567</td>\n",
       "      <td>1.114800e+10</td>\n",
       "      <td>1.060000e+23</td>\n",
       "      <td>8.990000e+12</td>\n",
       "      <td>30.109</td>\n",
       "      <td>4.540000e+12</td>\n",
       "      <td>7.240000e+21</td>\n",
       "      <td>255.5080</td>\n",
       "      <td>-1474.200000</td>\n",
       "      <td>9964.54</td>\n",
       "      <td>4.145</td>\n",
       "      <td>-0.2508</td>\n",
       "      <td>27.772</td>\n",
       "    </tr>\n",
       "  </tbody>\n",
       "</table>\n",
       "</div>"
      ],
      "text/plain": [
       "  Flare Class  TOTUSJH        TOTBSQ        TOTPOT       TOTUSJZ  ABSNJZH  \\\n",
       "0           B   55.772  1.020700e+09  5.220000e+21  9.610000e+11   38.849   \n",
       "1           B   41.846  9.579600e+08  1.510000e+21  6.020000e+11    7.576   \n",
       "2           M  605.079  8.395900e+09  7.970000e+22  7.560000e+12  295.489   \n",
       "3           B   34.981  1.882500e+09  1.590000e+21  6.240000e+11    1.055   \n",
       "4           B  633.567  1.114800e+10  1.060000e+23  8.990000e+12   30.109   \n",
       "\n",
       "        SAVNCPP        USFLUX  AREA_ACR        TOTFZ   MEANPOT  R_VALUE  \\\n",
       "0  1.390000e+12  2.820000e+20   13.9159   115.820000   8009.98    3.102   \n",
       "1  1.560000e+11  4.180000e+20   63.1692   -57.081000   2358.96    1.908   \n",
       "2  1.160000e+13  5.500000e+21  187.7550 -1069.000000  10742.80    4.173   \n",
       "3  7.150000e+11  4.610000e+20  134.5900    -0.072779   2012.54    2.449   \n",
       "4  4.540000e+12  7.240000e+21  255.5080 -1474.200000   9964.54    4.145   \n",
       "\n",
       "     EPSZ  SHRGT45  \n",
       "0  0.2152   51.120  \n",
       "1 -0.1130    2.079  \n",
       "2 -0.2415   12.511  \n",
       "3 -0.0001    1.010  \n",
       "4 -0.2508   27.772  "
      ]
     },
     "execution_count": 7,
     "metadata": {},
     "output_type": "execute_result"
    }
   ],
   "source": [
    "test = test_data.copy()\n",
    "\n",
    "def f(string):\n",
    "    return string[0]\n",
    "test['Flare Class'] = test['Flare Class'].apply(f)\n",
    "\n",
    "\n",
    "del test['fdate']\n",
    "del test['noaaar']\n",
    "\n",
    "test.head()"
   ]
  },
  {
   "cell_type": "code",
   "execution_count": 8,
   "id": "cbae6fbd",
   "metadata": {},
   "outputs": [],
   "source": [
    "x_test = test.drop(columns = ['Flare Class'])\n",
    "y_test = test['Flare Class']"
   ]
  },
  {
   "cell_type": "markdown",
   "id": "f1586aa2",
   "metadata": {},
   "source": [
    "# Sampling"
   ]
  },
  {
   "cell_type": "code",
   "execution_count": 9,
   "id": "f94a1e68",
   "metadata": {},
   "outputs": [
    {
     "data": {
      "text/plain": [
       "array(['X', 'M', 'C', 'B'], dtype=object)"
      ]
     },
     "execution_count": 9,
     "metadata": {},
     "output_type": "execute_result"
    }
   ],
   "source": [
    "arr = y_train.unique()\n",
    "arr"
   ]
  },
  {
   "cell_type": "code",
   "execution_count": 10,
   "id": "31d1670d",
   "metadata": {},
   "outputs": [
    {
     "data": {
      "text/plain": [
       "C    552\n",
       "M    142\n",
       "B    128\n",
       "X     23\n",
       "Name: Flare Class, dtype: int64"
      ]
     },
     "execution_count": 10,
     "metadata": {},
     "output_type": "execute_result"
    }
   ],
   "source": [
    "y_train.value_counts()"
   ]
  },
  {
   "cell_type": "code",
   "execution_count": 11,
   "id": "0adfc612",
   "metadata": {},
   "outputs": [],
   "source": [
    "shuffle_o_data = train"
   ]
  },
  {
   "cell_type": "code",
   "execution_count": 12,
   "id": "7927260a",
   "metadata": {},
   "outputs": [
    {
     "data": {
      "text/plain": [
       "(845, 14)"
      ]
     },
     "execution_count": 12,
     "metadata": {},
     "output_type": "execute_result"
    }
   ],
   "source": [
    "shuffle_o_data.shape"
   ]
  },
  {
   "cell_type": "code",
   "execution_count": 13,
   "id": "4ec867f6",
   "metadata": {},
   "outputs": [
    {
     "data": {
      "text/html": [
       "<div>\n",
       "<style scoped>\n",
       "    .dataframe tbody tr th:only-of-type {\n",
       "        vertical-align: middle;\n",
       "    }\n",
       "\n",
       "    .dataframe tbody tr th {\n",
       "        vertical-align: top;\n",
       "    }\n",
       "\n",
       "    .dataframe thead th {\n",
       "        text-align: right;\n",
       "    }\n",
       "</style>\n",
       "<table border=\"1\" class=\"dataframe\">\n",
       "  <thead>\n",
       "    <tr style=\"text-align: right;\">\n",
       "      <th></th>\n",
       "      <th>Flare Class</th>\n",
       "      <th>TOTUSJH</th>\n",
       "      <th>TOTBSQ</th>\n",
       "      <th>TOTPOT</th>\n",
       "      <th>TOTUSJZ</th>\n",
       "      <th>ABSNJZH</th>\n",
       "      <th>SAVNCPP</th>\n",
       "      <th>USFLUX</th>\n",
       "      <th>AREA_ACR</th>\n",
       "      <th>TOTFZ</th>\n",
       "      <th>MEANPOT</th>\n",
       "      <th>R_VALUE</th>\n",
       "      <th>EPSZ</th>\n",
       "      <th>SHRGT45</th>\n",
       "    </tr>\n",
       "  </thead>\n",
       "  <tbody>\n",
       "    <tr>\n",
       "      <th>0</th>\n",
       "      <td>X</td>\n",
       "      <td>3249.070</td>\n",
       "      <td>4.181500e+10</td>\n",
       "      <td>8.600000e+23</td>\n",
       "      <td>6.213300e+13</td>\n",
       "      <td>700.682</td>\n",
       "      <td>1.489950e+13</td>\n",
       "      <td>2.740000e+22</td>\n",
       "      <td>1103.97000</td>\n",
       "      <td>-552.8900</td>\n",
       "      <td>14038.00</td>\n",
       "      <td>4.820</td>\n",
       "      <td>-0.0251</td>\n",
       "      <td>59.489</td>\n",
       "    </tr>\n",
       "    <tr>\n",
       "      <th>1</th>\n",
       "      <td>X</td>\n",
       "      <td>3176.310</td>\n",
       "      <td>4.778200e+10</td>\n",
       "      <td>9.660000e+23</td>\n",
       "      <td>6.931420e+13</td>\n",
       "      <td>157.759</td>\n",
       "      <td>9.905710e+12</td>\n",
       "      <td>3.180000e+22</td>\n",
       "      <td>1400.93000</td>\n",
       "      <td>-869.7000</td>\n",
       "      <td>13463.60</td>\n",
       "      <td>4.825</td>\n",
       "      <td>-0.0345</td>\n",
       "      <td>55.222</td>\n",
       "    </tr>\n",
       "    <tr>\n",
       "      <th>2</th>\n",
       "      <td>X</td>\n",
       "      <td>1892.920</td>\n",
       "      <td>2.667300e+10</td>\n",
       "      <td>3.720000e+23</td>\n",
       "      <td>4.211730e+13</td>\n",
       "      <td>171.952</td>\n",
       "      <td>6.528880e+12</td>\n",
       "      <td>1.890000e+22</td>\n",
       "      <td>1370.85000</td>\n",
       "      <td>-231.2900</td>\n",
       "      <td>7496.19</td>\n",
       "      <td>4.438</td>\n",
       "      <td>-0.0164</td>\n",
       "      <td>42.934</td>\n",
       "    </tr>\n",
       "    <tr>\n",
       "      <th>3</th>\n",
       "      <td>X</td>\n",
       "      <td>1868.820</td>\n",
       "      <td>2.450900e+10</td>\n",
       "      <td>3.480000e+23</td>\n",
       "      <td>3.628930e+13</td>\n",
       "      <td>429.602</td>\n",
       "      <td>2.118070e+13</td>\n",
       "      <td>1.730000e+22</td>\n",
       "      <td>1198.60000</td>\n",
       "      <td>-317.5600</td>\n",
       "      <td>8669.42</td>\n",
       "      <td>4.319</td>\n",
       "      <td>-0.0246</td>\n",
       "      <td>35.944</td>\n",
       "    </tr>\n",
       "    <tr>\n",
       "      <th>4</th>\n",
       "      <td>X</td>\n",
       "      <td>5271.770</td>\n",
       "      <td>1.022900e+11</td>\n",
       "      <td>1.920000e+24</td>\n",
       "      <td>8.689800e+13</td>\n",
       "      <td>1066.250</td>\n",
       "      <td>1.611780e+13</td>\n",
       "      <td>6.440000e+22</td>\n",
       "      <td>1939.06000</td>\n",
       "      <td>-6162.1000</td>\n",
       "      <td>16094.80</td>\n",
       "      <td>4.912</td>\n",
       "      <td>-0.1143</td>\n",
       "      <td>41.102</td>\n",
       "    </tr>\n",
       "    <tr>\n",
       "      <th>...</th>\n",
       "      <td>...</td>\n",
       "      <td>...</td>\n",
       "      <td>...</td>\n",
       "      <td>...</td>\n",
       "      <td>...</td>\n",
       "      <td>...</td>\n",
       "      <td>...</td>\n",
       "      <td>...</td>\n",
       "      <td>...</td>\n",
       "      <td>...</td>\n",
       "      <td>...</td>\n",
       "      <td>...</td>\n",
       "      <td>...</td>\n",
       "      <td>...</td>\n",
       "    </tr>\n",
       "    <tr>\n",
       "      <th>840</th>\n",
       "      <td>B</td>\n",
       "      <td>191.660</td>\n",
       "      <td>2.753200e+09</td>\n",
       "      <td>1.600000e+22</td>\n",
       "      <td>3.697490e+12</td>\n",
       "      <td>14.317</td>\n",
       "      <td>1.201620e+12</td>\n",
       "      <td>1.850000e+21</td>\n",
       "      <td>196.69000</td>\n",
       "      <td>-89.5280</td>\n",
       "      <td>3684.01</td>\n",
       "      <td>3.219</td>\n",
       "      <td>-0.0617</td>\n",
       "      <td>23.996</td>\n",
       "    </tr>\n",
       "    <tr>\n",
       "      <th>841</th>\n",
       "      <td>B</td>\n",
       "      <td>453.274</td>\n",
       "      <td>4.039000e+09</td>\n",
       "      <td>2.450000e+22</td>\n",
       "      <td>9.979400e+12</td>\n",
       "      <td>140.312</td>\n",
       "      <td>6.265800e+12</td>\n",
       "      <td>4.280000e+21</td>\n",
       "      <td>159.16700</td>\n",
       "      <td>-742.7900</td>\n",
       "      <td>2668.60</td>\n",
       "      <td>3.011</td>\n",
       "      <td>-0.3488</td>\n",
       "      <td>10.699</td>\n",
       "    </tr>\n",
       "    <tr>\n",
       "      <th>842</th>\n",
       "      <td>B</td>\n",
       "      <td>330.547</td>\n",
       "      <td>4.944100e+09</td>\n",
       "      <td>6.020000e+22</td>\n",
       "      <td>6.738150e+12</td>\n",
       "      <td>83.429</td>\n",
       "      <td>1.788770e+12</td>\n",
       "      <td>3.830000e+21</td>\n",
       "      <td>195.09700</td>\n",
       "      <td>-389.4300</td>\n",
       "      <td>7298.23</td>\n",
       "      <td>3.302</td>\n",
       "      <td>-0.1494</td>\n",
       "      <td>41.723</td>\n",
       "    </tr>\n",
       "    <tr>\n",
       "      <th>843</th>\n",
       "      <td>B</td>\n",
       "      <td>26.477</td>\n",
       "      <td>1.021300e+09</td>\n",
       "      <td>7.490000e+20</td>\n",
       "      <td>3.684500e+11</td>\n",
       "      <td>12.193</td>\n",
       "      <td>2.752780e+11</td>\n",
       "      <td>1.860000e+20</td>\n",
       "      <td>9.81402</td>\n",
       "      <td>-9.2336</td>\n",
       "      <td>2420.74</td>\n",
       "      <td>2.946</td>\n",
       "      <td>-0.0172</td>\n",
       "      <td>5.150</td>\n",
       "    </tr>\n",
       "    <tr>\n",
       "      <th>844</th>\n",
       "      <td>B</td>\n",
       "      <td>487.186</td>\n",
       "      <td>3.863200e+09</td>\n",
       "      <td>4.800000e+22</td>\n",
       "      <td>1.028270e+13</td>\n",
       "      <td>50.024</td>\n",
       "      <td>1.761570e+12</td>\n",
       "      <td>3.330000e+21</td>\n",
       "      <td>113.35000</td>\n",
       "      <td>-438.1500</td>\n",
       "      <td>6530.75</td>\n",
       "      <td>3.926</td>\n",
       "      <td>-0.2151</td>\n",
       "      <td>30.796</td>\n",
       "    </tr>\n",
       "  </tbody>\n",
       "</table>\n",
       "<p>845 rows × 14 columns</p>\n",
       "</div>"
      ],
      "text/plain": [
       "    Flare Class   TOTUSJH        TOTBSQ        TOTPOT       TOTUSJZ   ABSNJZH  \\\n",
       "0             X  3249.070  4.181500e+10  8.600000e+23  6.213300e+13   700.682   \n",
       "1             X  3176.310  4.778200e+10  9.660000e+23  6.931420e+13   157.759   \n",
       "2             X  1892.920  2.667300e+10  3.720000e+23  4.211730e+13   171.952   \n",
       "3             X  1868.820  2.450900e+10  3.480000e+23  3.628930e+13   429.602   \n",
       "4             X  5271.770  1.022900e+11  1.920000e+24  8.689800e+13  1066.250   \n",
       "..          ...       ...           ...           ...           ...       ...   \n",
       "840           B   191.660  2.753200e+09  1.600000e+22  3.697490e+12    14.317   \n",
       "841           B   453.274  4.039000e+09  2.450000e+22  9.979400e+12   140.312   \n",
       "842           B   330.547  4.944100e+09  6.020000e+22  6.738150e+12    83.429   \n",
       "843           B    26.477  1.021300e+09  7.490000e+20  3.684500e+11    12.193   \n",
       "844           B   487.186  3.863200e+09  4.800000e+22  1.028270e+13    50.024   \n",
       "\n",
       "          SAVNCPP        USFLUX    AREA_ACR      TOTFZ   MEANPOT  R_VALUE  \\\n",
       "0    1.489950e+13  2.740000e+22  1103.97000  -552.8900  14038.00    4.820   \n",
       "1    9.905710e+12  3.180000e+22  1400.93000  -869.7000  13463.60    4.825   \n",
       "2    6.528880e+12  1.890000e+22  1370.85000  -231.2900   7496.19    4.438   \n",
       "3    2.118070e+13  1.730000e+22  1198.60000  -317.5600   8669.42    4.319   \n",
       "4    1.611780e+13  6.440000e+22  1939.06000 -6162.1000  16094.80    4.912   \n",
       "..            ...           ...         ...        ...       ...      ...   \n",
       "840  1.201620e+12  1.850000e+21   196.69000   -89.5280   3684.01    3.219   \n",
       "841  6.265800e+12  4.280000e+21   159.16700  -742.7900   2668.60    3.011   \n",
       "842  1.788770e+12  3.830000e+21   195.09700  -389.4300   7298.23    3.302   \n",
       "843  2.752780e+11  1.860000e+20     9.81402    -9.2336   2420.74    2.946   \n",
       "844  1.761570e+12  3.330000e+21   113.35000  -438.1500   6530.75    3.926   \n",
       "\n",
       "       EPSZ  SHRGT45  \n",
       "0   -0.0251   59.489  \n",
       "1   -0.0345   55.222  \n",
       "2   -0.0164   42.934  \n",
       "3   -0.0246   35.944  \n",
       "4   -0.1143   41.102  \n",
       "..      ...      ...  \n",
       "840 -0.0617   23.996  \n",
       "841 -0.3488   10.699  \n",
       "842 -0.1494   41.723  \n",
       "843 -0.0172    5.150  \n",
       "844 -0.2151   30.796  \n",
       "\n",
       "[845 rows x 14 columns]"
      ]
     },
     "execution_count": 13,
     "metadata": {},
     "output_type": "execute_result"
    }
   ],
   "source": [
    "shuffle_o_data"
   ]
  },
  {
   "cell_type": "markdown",
   "id": "9b2f15ec",
   "metadata": {},
   "source": [
    "# Undersampling Majority classes to 140"
   ]
  },
  {
   "cell_type": "code",
   "execution_count": 14,
   "id": "05c4cfef",
   "metadata": {},
   "outputs": [
    {
     "name": "stderr",
     "output_type": "stream",
     "text": [
      "c:\\users\\226735 c2in\\appdata\\local\\programs\\python\\python37\\lib\\site-packages\\seaborn\\_decorators.py:43: FutureWarning: Pass the following variable as a keyword arg: x. From version 0.12, the only valid positional argument will be `data`, and passing other arguments without an explicit keyword will result in an error or misinterpretation.\n",
      "  FutureWarning\n"
     ]
    },
    {
     "data": {
      "image/png": "[encoded data removed]",
      "text/plain": [
       "<Figure size 576x576 with 1 Axes>"
      ]
     },
     "metadata": {
      "needs_background": "light"
     },
     "output_type": "display_data"
    }
   ],
   "source": [
    "import seaborn as sns\n",
    "import matplotlib.pyplot as plt\n",
    "c_o_data = shuffle_o_data.loc[shuffle_o_data['Flare Class'] == 'C'].sample(n=142,random_state = 2)\n",
    "m_o_data = shuffle_o_data.loc[shuffle_o_data['Flare Class'] == 'M']\n",
    "b_o_data = shuffle_o_data.loc[shuffle_o_data['Flare Class'] == 'B']\n",
    "x_o_data = shuffle_o_data.loc[shuffle_o_data['Flare Class'] == 'X']\n",
    "balanced_o_data = pd.concat([c_o_data, m_o_data, b_o_data, x_o_data])\n",
    "plt.figure(figsize=(8, 8))\n",
    "sns.countplot('Flare Class', data=balanced_o_data)\n",
    "plt.title('Balanced Classes')\n",
    "plt.show()"
   ]
  },
  {
   "cell_type": "code",
   "execution_count": 15,
   "id": "0e00593a",
   "metadata": {},
   "outputs": [],
   "source": [
    "us_majority_data = balanced_o_data"
   ]
  },
  {
   "cell_type": "code",
   "execution_count": 16,
   "id": "ce9aac81",
   "metadata": {},
   "outputs": [
    {
     "name": "stdout",
     "output_type": "stream",
     "text": [
      "Requirement already up-to-date: imbalanced-learn<0.9 in c:\\users\\226735 c2in\\appdata\\local\\programs\\python\\python37\\lib\\site-packages (0.8.1)\n",
      "Requirement already satisfied, skipping upgrade: numpy>=1.13.3 in c:\\users\\226735 c2in\\appdata\\local\\programs\\python\\python37\\lib\\site-packages (from imbalanced-learn<0.9) (1.19.5)\n",
      "Requirement already satisfied, skipping upgrade: scipy>=0.19.1 in c:\\users\\226735 c2in\\appdata\\local\\programs\\python\\python37\\lib\\site-packages (from imbalanced-learn<0.9) (1.7.3)\n",
      "Requirement already satisfied, skipping upgrade: scikit-learn>=0.24 in c:\\users\\226735 c2in\\appdata\\local\\programs\\python\\python37\\lib\\site-packages (from imbalanced-learn<0.9) (0.24.2)\n",
      "Requirement already satisfied, skipping upgrade: joblib>=0.11 in c:\\users\\226735 c2in\\appdata\\roaming\\python\\python37\\site-packages (from imbalanced-learn<0.9) (1.1.0)\n",
      "Requirement already satisfied, skipping upgrade: threadpoolctl>=2.0.0 in c:\\users\\226735 c2in\\appdata\\local\\programs\\python\\python37\\lib\\site-packages (from scikit-learn>=0.24->imbalanced-learn<0.9) (3.1.0)\n",
      "Note: you may need to restart the kernel to use updated packages.\n"
     ]
    },
    {
     "name": "stderr",
     "output_type": "stream",
     "text": [
      "You are using pip version 19.0.3, however version 22.3.1 is available.\n",
      "You should consider upgrading via the 'python -m pip install --upgrade pip' command.\n"
     ]
    }
   ],
   "source": [
    "pip install -U \"imbalanced-learn < 0.9\""
   ]
  },
  {
   "cell_type": "code",
   "execution_count": 17,
   "id": "b3ba3fc4",
   "metadata": {},
   "outputs": [],
   "source": [
    "x_train_n = us_majority_data.drop(columns = \"Flare Class\")\n",
    "y_train_n = us_majority_data['Flare Class']"
   ]
  },
  {
   "cell_type": "code",
   "execution_count": 18,
   "id": "51c2804c",
   "metadata": {},
   "outputs": [
    {
     "data": {
      "text/html": [
       "<div>\n",
       "<style scoped>\n",
       "    .dataframe tbody tr th:only-of-type {\n",
       "        vertical-align: middle;\n",
       "    }\n",
       "\n",
       "    .dataframe tbody tr th {\n",
       "        vertical-align: top;\n",
       "    }\n",
       "\n",
       "    .dataframe thead th {\n",
       "        text-align: right;\n",
       "    }\n",
       "</style>\n",
       "<table border=\"1\" class=\"dataframe\">\n",
       "  <thead>\n",
       "    <tr style=\"text-align: right;\">\n",
       "      <th></th>\n",
       "      <th>TOTUSJH</th>\n",
       "      <th>TOTBSQ</th>\n",
       "      <th>TOTPOT</th>\n",
       "      <th>TOTUSJZ</th>\n",
       "      <th>ABSNJZH</th>\n",
       "      <th>SAVNCPP</th>\n",
       "      <th>USFLUX</th>\n",
       "      <th>AREA_ACR</th>\n",
       "      <th>TOTFZ</th>\n",
       "      <th>MEANPOT</th>\n",
       "      <th>R_VALUE</th>\n",
       "      <th>EPSZ</th>\n",
       "      <th>SHRGT45</th>\n",
       "    </tr>\n",
       "  </thead>\n",
       "  <tbody>\n",
       "    <tr>\n",
       "      <th>509</th>\n",
       "      <td>120.615</td>\n",
       "      <td>7.384700e+09</td>\n",
       "      <td>6.480000e+21</td>\n",
       "      <td>2.170900e+12</td>\n",
       "      <td>23.575</td>\n",
       "      <td>1.172040e+12</td>\n",
       "      <td>1.710000e+21</td>\n",
       "      <td>33.5168</td>\n",
       "      <td>-1516.90</td>\n",
       "      <td>2118.72</td>\n",
       "      <td>1.954</td>\n",
       "      <td>-0.3896</td>\n",
       "      <td>6.386</td>\n",
       "    </tr>\n",
       "    <tr>\n",
       "      <th>396</th>\n",
       "      <td>839.571</td>\n",
       "      <td>1.245300e+10</td>\n",
       "      <td>1.270000e+23</td>\n",
       "      <td>1.973960e+13</td>\n",
       "      <td>48.598</td>\n",
       "      <td>3.381470e+12</td>\n",
       "      <td>1.190000e+22</td>\n",
       "      <td>468.0370</td>\n",
       "      <td>-1710.70</td>\n",
       "      <td>4790.32</td>\n",
       "      <td>3.459</td>\n",
       "      <td>-0.2606</td>\n",
       "      <td>30.718</td>\n",
       "    </tr>\n",
       "    <tr>\n",
       "      <th>518</th>\n",
       "      <td>358.509</td>\n",
       "      <td>5.201700e+09</td>\n",
       "      <td>3.880000e+22</td>\n",
       "      <td>7.449880e+12</td>\n",
       "      <td>32.093</td>\n",
       "      <td>2.140060e+12</td>\n",
       "      <td>3.650000e+21</td>\n",
       "      <td>363.6790</td>\n",
       "      <td>-302.28</td>\n",
       "      <td>4744.47</td>\n",
       "      <td>3.632</td>\n",
       "      <td>-0.1102</td>\n",
       "      <td>25.650</td>\n",
       "    </tr>\n",
       "    <tr>\n",
       "      <th>626</th>\n",
       "      <td>1359.410</td>\n",
       "      <td>2.676000e+10</td>\n",
       "      <td>3.320000e+23</td>\n",
       "      <td>2.958340e+13</td>\n",
       "      <td>169.774</td>\n",
       "      <td>9.216850e+12</td>\n",
       "      <td>1.660000e+22</td>\n",
       "      <td>1192.9100</td>\n",
       "      <td>-884.72</td>\n",
       "      <td>8692.95</td>\n",
       "      <td>3.498</td>\n",
       "      <td>-0.0627</td>\n",
       "      <td>37.298</td>\n",
       "    </tr>\n",
       "    <tr>\n",
       "      <th>645</th>\n",
       "      <td>2194.820</td>\n",
       "      <td>4.678000e+10</td>\n",
       "      <td>8.990000e+23</td>\n",
       "      <td>4.764780e+13</td>\n",
       "      <td>188.244</td>\n",
       "      <td>4.118910e+12</td>\n",
       "      <td>3.050000e+22</td>\n",
       "      <td>1232.6600</td>\n",
       "      <td>-1773.40</td>\n",
       "      <td>14744.90</td>\n",
       "      <td>4.723</td>\n",
       "      <td>-0.0719</td>\n",
       "      <td>56.588</td>\n",
       "    </tr>\n",
       "  </tbody>\n",
       "</table>\n",
       "</div>"
      ],
      "text/plain": [
       "      TOTUSJH        TOTBSQ        TOTPOT       TOTUSJZ  ABSNJZH  \\\n",
       "509   120.615  7.384700e+09  6.480000e+21  2.170900e+12   23.575   \n",
       "396   839.571  1.245300e+10  1.270000e+23  1.973960e+13   48.598   \n",
       "518   358.509  5.201700e+09  3.880000e+22  7.449880e+12   32.093   \n",
       "626  1359.410  2.676000e+10  3.320000e+23  2.958340e+13  169.774   \n",
       "645  2194.820  4.678000e+10  8.990000e+23  4.764780e+13  188.244   \n",
       "\n",
       "          SAVNCPP        USFLUX   AREA_ACR    TOTFZ   MEANPOT  R_VALUE  \\\n",
       "509  1.172040e+12  1.710000e+21    33.5168 -1516.90   2118.72    1.954   \n",
       "396  3.381470e+12  1.190000e+22   468.0370 -1710.70   4790.32    3.459   \n",
       "518  2.140060e+12  3.650000e+21   363.6790  -302.28   4744.47    3.632   \n",
       "626  9.216850e+12  1.660000e+22  1192.9100  -884.72   8692.95    3.498   \n",
       "645  4.118910e+12  3.050000e+22  1232.6600 -1773.40  14744.90    4.723   \n",
       "\n",
       "       EPSZ  SHRGT45  \n",
       "509 -0.3896    6.386  \n",
       "396 -0.2606   30.718  \n",
       "518 -0.1102   25.650  \n",
       "626 -0.0627   37.298  \n",
       "645 -0.0719   56.588  "
      ]
     },
     "execution_count": 18,
     "metadata": {},
     "output_type": "execute_result"
    }
   ],
   "source": [
    "x_train_n.head()"
   ]
  },
  {
   "cell_type": "code",
   "execution_count": 19,
   "id": "9f0629a7",
   "metadata": {},
   "outputs": [
    {
     "data": {
      "text/plain": [
       "509    C\n",
       "396    C\n",
       "518    C\n",
       "626    C\n",
       "645    C\n",
       "Name: Flare Class, dtype: object"
      ]
     },
     "execution_count": 19,
     "metadata": {},
     "output_type": "execute_result"
    }
   ],
   "source": [
    "y_train_n.head()"
   ]
  },
  {
   "cell_type": "markdown",
   "id": "09e4a014",
   "metadata": {},
   "source": [
    "# Oversampling Minority class to 140"
   ]
  },
  {
   "cell_type": "code",
   "execution_count": 20,
   "id": "d24bb28a",
   "metadata": {},
   "outputs": [
    {
     "name": "stderr",
     "output_type": "stream",
     "text": [
      "c:\\users\\226735 c2in\\appdata\\local\\programs\\python\\python37\\lib\\site-packages\\seaborn\\_decorators.py:43: FutureWarning: Pass the following variable as a keyword arg: x. From version 0.12, the only valid positional argument will be `data`, and passing other arguments without an explicit keyword will result in an error or misinterpretation.\n",
      "  FutureWarning\n"
     ]
    },
    {
     "data": {
      "image/png": "[encoded data removed]",
      "text/plain": [
       "<Figure size 576x576 with 1 Axes>"
      ]
     },
     "metadata": {
      "needs_background": "light"
     },
     "output_type": "display_data"
    }
   ],
   "source": [
    "from imblearn.over_sampling import SMOTE\n",
    "import seaborn as sns\n",
    "import matplotlib.pyplot as plt\n",
    "sm = SMOTE(sampling_strategy = 'auto', random_state = 5)\n",
    "x_train_os, y_train_os = sm.fit_resample(x_train_n, y_train_n)\n",
    "train_data = pd.concat([x_train_os, y_train_os], axis = 1)\n",
    "plt.figure(figsize=(8, 8))\n",
    "sns.countplot('Flare Class', data=train_data)\n",
    "plt.title('Balanced Classes')\n",
    "plt.show()"
   ]
  },
  {
   "cell_type": "code",
   "execution_count": 21,
   "id": "9117828a",
   "metadata": {},
   "outputs": [],
   "source": [
    "x_train = x_train_os.copy()\n",
    "y_train = y_train_os.copy()"
   ]
  },
  {
   "cell_type": "markdown",
   "id": "92edcb3e",
   "metadata": {},
   "source": [
    "# KNN"
   ]
  },
  {
   "cell_type": "code",
   "execution_count": 22,
   "id": "b84f9fd7",
   "metadata": {},
   "outputs": [],
   "source": [
    "from sklearn.neighbors import KNeighborsClassifier\n",
    "from sklearn.model_selection import cross_val_score\n",
    "from sklearn import preprocessing"
   ]
  },
  {
   "cell_type": "code",
   "execution_count": 23,
   "id": "0d06a72d",
   "metadata": {},
   "outputs": [],
   "source": [
    "from sklearn.metrics import confusion_matrix"
   ]
  },
  {
   "cell_type": "code",
   "execution_count": 24,
   "id": "ed088a2d",
   "metadata": {},
   "outputs": [],
   "source": [
    "scaler = preprocessing.StandardScaler()\n",
    "scaler.fit(x_train)\n",
    "x_train_scaled = scaler.transform(x_train)\n",
    "scaler.fit(x_test)\n",
    "x_test_scaled = scaler.transform(x_test)"
   ]
  },
  {
   "cell_type": "code",
   "execution_count": 25,
   "id": "fe2a34f5",
   "metadata": {},
   "outputs": [
    {
     "data": {
      "text/plain": [
       "KNeighborsClassifier()"
      ]
     },
     "execution_count": 25,
     "metadata": {},
     "output_type": "execute_result"
    }
   ],
   "source": [
    "clf1 = KNeighborsClassifier()\n",
    "clf1.fit(x_train_scaled, y_train)"
   ]
  },
  {
   "cell_type": "code",
   "execution_count": 26,
   "id": "99b4c941",
   "metadata": {},
   "outputs": [
    {
     "data": {
      "text/plain": [
       "0.55"
      ]
     },
     "execution_count": 26,
     "metadata": {},
     "output_type": "execute_result"
    }
   ],
   "source": [
    "clf1.score(x_test_scaled, y_test)"
   ]
  },
  {
   "cell_type": "code",
   "execution_count": 27,
   "id": "8bcde867",
   "metadata": {},
   "outputs": [],
   "source": [
    "import matplotlib.pyplot as plt"
   ]
  },
  {
   "cell_type": "code",
   "execution_count": 28,
   "id": "7b67f437",
   "metadata": {},
   "outputs": [
    {
     "data": {
      "image/png": "[encoded data removed]",
      "text/plain": [
       "<Figure size 432x288 with 1 Axes>"
      ]
     },
     "metadata": {
      "needs_background": "light"
     },
     "output_type": "display_data"
    }
   ],
   "source": [
    "x_axis = []\n",
    "y_axis = []\n",
    "for i in range(1, 16, 2):\n",
    "    clf8 = KNeighborsClassifier(n_neighbors = i)\n",
    "    score = cross_val_score(clf8, x_train_scaled, y_train)\n",
    "    x_axis.append(i)\n",
    "    y_axis.append(score.mean())\n",
    "    \n",
    "plt.plot(x_axis,y_axis)\n",
    "plt.grid()\n",
    "plt.show()"
   ]
  },
  {
   "cell_type": "code",
   "execution_count": 29,
   "id": "d1461ffb",
   "metadata": {},
   "outputs": [
    {
     "data": {
      "text/plain": [
       "array([[9, 5, 1, 0],\n",
       "       [1, 7, 2, 2],\n",
       "       [0, 5, 2, 2],\n",
       "       [0, 0, 0, 4]], dtype=int64)"
      ]
     },
     "execution_count": 29,
     "metadata": {},
     "output_type": "execute_result"
    }
   ],
   "source": [
    "y_pred = clf1.predict(x_test_scaled)\n",
    "confusion_matrix(y_test,y_pred)"
   ]
  },
  {
   "cell_type": "code",
   "execution_count": 30,
   "id": "053f000b",
   "metadata": {},
   "outputs": [],
   "source": [
    "y_pred_knn = y_pred"
   ]
  },
  {
   "cell_type": "markdown",
   "id": "8aafb54e",
   "metadata": {},
   "source": [
    "# Naive Bayes"
   ]
  },
  {
   "cell_type": "code",
   "execution_count": 31,
   "id": "956633c1",
   "metadata": {},
   "outputs": [],
   "source": [
    "from sklearn.naive_bayes import GaussianNB"
   ]
  },
  {
   "cell_type": "code",
   "execution_count": 32,
   "id": "1dff9c4c",
   "metadata": {},
   "outputs": [
    {
     "data": {
      "text/plain": [
       "GaussianNB()"
      ]
     },
     "execution_count": 32,
     "metadata": {},
     "output_type": "execute_result"
    }
   ],
   "source": [
    "clf3 = GaussianNB()\n",
    "clf3.fit(x_train, y_train)"
   ]
  },
  {
   "cell_type": "code",
   "execution_count": 33,
   "id": "e11c69d2",
   "metadata": {},
   "outputs": [
    {
     "data": {
      "text/plain": [
       "array([[15,  0,  0,  0],\n",
       "       [ 8,  4,  0,  0],\n",
       "       [ 5,  2,  2,  0],\n",
       "       [ 1,  1,  0,  2]], dtype=int64)"
      ]
     },
     "execution_count": 33,
     "metadata": {},
     "output_type": "execute_result"
    }
   ],
   "source": [
    "y_pred = clf3.predict(x_test)\n",
    "confusion_matrix(y_test, y_pred)"
   ]
  },
  {
   "cell_type": "code",
   "execution_count": 34,
   "id": "3ca76428",
   "metadata": {},
   "outputs": [],
   "source": [
    "y_pred_nb = y_pred"
   ]
  },
  {
   "cell_type": "code",
   "execution_count": 35,
   "id": "e38f1bdb",
   "metadata": {},
   "outputs": [
    {
     "data": {
      "text/plain": [
       "0.575"
      ]
     },
     "execution_count": 35,
     "metadata": {},
     "output_type": "execute_result"
    }
   ],
   "source": [
    "clf3.score(x_test, y_test)"
   ]
  },
  {
   "cell_type": "markdown",
   "id": "d7af64f7",
   "metadata": {},
   "source": [
    "# Random Forest"
   ]
  },
  {
   "cell_type": "code",
   "execution_count": 36,
   "id": "744c6aa9",
   "metadata": {},
   "outputs": [],
   "source": [
    "from sklearn.ensemble import RandomForestClassifier\n",
    "clf4 = RandomForestClassifier(n_estimators = 1000, \n",
    "                                       max_features=6, \n",
    "                                       n_jobs=1,random_state = 2)"
   ]
  },
  {
   "cell_type": "code",
   "execution_count": 37,
   "id": "48cad95d",
   "metadata": {},
   "outputs": [
    {
     "data": {
      "text/plain": [
       "RandomForestClassifier(max_features=6, n_estimators=1000, n_jobs=1,\n",
       "                       random_state=2)"
      ]
     },
     "execution_count": 37,
     "metadata": {},
     "output_type": "execute_result"
    }
   ],
   "source": [
    "clf4.fit(x_train, y_train)"
   ]
  },
  {
   "cell_type": "code",
   "execution_count": 38,
   "id": "2af2a3b6",
   "metadata": {},
   "outputs": [
    {
     "data": {
      "text/plain": [
       "0.85"
      ]
     },
     "execution_count": 38,
     "metadata": {},
     "output_type": "execute_result"
    }
   ],
   "source": [
    "clf4.score(x_test,y_test)  # RF classifier - the one in the paper"
   ]
  },
  {
   "cell_type": "code",
   "execution_count": 39,
   "id": "ec709ef1",
   "metadata": {},
   "outputs": [
    {
     "data": {
      "text/plain": [
       "RandomForestClassifier(random_state=2)"
      ]
     },
     "execution_count": 39,
     "metadata": {},
     "output_type": "execute_result"
    }
   ],
   "source": [
    "clf5 = RandomForestClassifier(random_state = 2)\n",
    "clf5.fit(x_train, y_train)"
   ]
  },
  {
   "cell_type": "code",
   "execution_count": 40,
   "id": "7a9a4350",
   "metadata": {},
   "outputs": [
    {
     "data": {
      "text/plain": [
       "0.85"
      ]
     },
     "execution_count": 40,
     "metadata": {},
     "output_type": "execute_result"
    }
   ],
   "source": [
    "clf5.score(x_test, y_test)"
   ]
  },
  {
   "cell_type": "code",
   "execution_count": 41,
   "id": "4c9d454f",
   "metadata": {},
   "outputs": [],
   "source": [
    "y_pred = clf5.predict(x_test) "
   ]
  },
  {
   "cell_type": "code",
   "execution_count": 42,
   "id": "07320cb3",
   "metadata": {},
   "outputs": [
    {
     "data": {
      "text/plain": [
       "array([[15,  0,  0,  0],\n",
       "       [ 5,  6,  1,  0],\n",
       "       [ 0,  0,  9,  0],\n",
       "       [ 0,  0,  0,  4]], dtype=int64)"
      ]
     },
     "execution_count": 42,
     "metadata": {},
     "output_type": "execute_result"
    }
   ],
   "source": [
    "confusion_matrix(y_test,y_pred)"
   ]
  },
  {
   "cell_type": "code",
   "execution_count": 43,
   "id": "15b81274",
   "metadata": {},
   "outputs": [
    {
     "data": {
      "text/plain": [
       "0.85"
      ]
     },
     "execution_count": 43,
     "metadata": {},
     "output_type": "execute_result"
    }
   ],
   "source": [
    "clf4.score(x_test,y_test)"
   ]
  },
  {
   "cell_type": "code",
   "execution_count": 44,
   "id": "56bfcc46",
   "metadata": {},
   "outputs": [],
   "source": [
    "y_pred_rf = y_pred"
   ]
  },
  {
   "cell_type": "code",
   "execution_count": 45,
   "id": "620c7cf0",
   "metadata": {},
   "outputs": [],
   "source": [
    "y_pred_rf_flare = clf4.predict(x_test)"
   ]
  },
  {
   "cell_type": "markdown",
   "id": "501f4373",
   "metadata": {},
   "source": [
    "# SVM"
   ]
  },
  {
   "cell_type": "code",
   "execution_count": 46,
   "id": "c5b83de9",
   "metadata": {},
   "outputs": [],
   "source": [
    "from sklearn.svm import SVC"
   ]
  },
  {
   "cell_type": "code",
   "execution_count": 47,
   "id": "e437960e",
   "metadata": {},
   "outputs": [
    {
     "data": {
      "text/plain": [
       "SVC(C=2)"
      ]
     },
     "execution_count": 47,
     "metadata": {},
     "output_type": "execute_result"
    }
   ],
   "source": [
    "clf6 = SVC(C=2)\n",
    "clf6.fit(x_train, y_train)"
   ]
  },
  {
   "cell_type": "code",
   "execution_count": 48,
   "id": "c1442b9e",
   "metadata": {},
   "outputs": [
    {
     "data": {
      "text/plain": [
       "0.525"
      ]
     },
     "execution_count": 48,
     "metadata": {},
     "output_type": "execute_result"
    }
   ],
   "source": [
    "clf6.score(x_test, y_test)"
   ]
  },
  {
   "cell_type": "code",
   "execution_count": 49,
   "id": "ddab9724",
   "metadata": {},
   "outputs": [],
   "source": [
    "from sklearn.model_selection import GridSearchCV"
   ]
  },
  {
   "cell_type": "code",
   "execution_count": 50,
   "id": "ae520c3a",
   "metadata": {},
   "outputs": [
    {
     "data": {
      "text/plain": [
       "GridSearchCV(estimator=SVC(),\n",
       "             param_grid={'C': [1, 2, 3, 4, 5, 10],\n",
       "                         'decision_function_shape': ['ovo', 'ovr'],\n",
       "                         'kernel': ['rbf']})"
      ]
     },
     "execution_count": 50,
     "metadata": {},
     "output_type": "execute_result"
    }
   ],
   "source": [
    "clf7 = SVC()\n",
    "grid = {'C':[1,2,3,4,5,10], \n",
    "        'kernel':['rbf'],\n",
    "       'decision_function_shape':['ovo', 'ovr']}\n",
    "abc = GridSearchCV(clf7, grid)\n",
    "abc.fit(x_train_scaled, y_train)"
   ]
  },
  {
   "cell_type": "code",
   "execution_count": 51,
   "id": "be8107ac",
   "metadata": {},
   "outputs": [
    {
     "data": {
      "text/plain": [
       "SVC(C=5, decision_function_shape='ovo')"
      ]
     },
     "execution_count": 51,
     "metadata": {},
     "output_type": "execute_result"
    }
   ],
   "source": [
    "abc.best_estimator_"
   ]
  },
  {
   "cell_type": "code",
   "execution_count": 52,
   "id": "73a7d9a0",
   "metadata": {},
   "outputs": [
    {
     "data": {
      "text/plain": [
       "0.5"
      ]
     },
     "execution_count": 52,
     "metadata": {},
     "output_type": "execute_result"
    }
   ],
   "source": [
    "clf8 = SVC(C=3, decision_function_shape='ovo', kernel='rbf')\n",
    "clf8.fit(x_train, y_train)\n",
    "clf8.score(x_test, y_test)"
   ]
  },
  {
   "cell_type": "code",
   "execution_count": 53,
   "id": "bba9b415",
   "metadata": {},
   "outputs": [
    {
     "data": {
      "text/plain": [
       "array([[14,  1,  0,  0],\n",
       "       [ 7,  1,  4,  0],\n",
       "       [ 4,  2,  2,  1],\n",
       "       [ 0,  1,  0,  3]], dtype=int64)"
      ]
     },
     "execution_count": 53,
     "metadata": {},
     "output_type": "execute_result"
    }
   ],
   "source": [
    "y_pred = clf8.predict(x_test)\n",
    "confusion_matrix(y_test,y_pred)"
   ]
  },
  {
   "cell_type": "code",
   "execution_count": 54,
   "id": "4de04d79",
   "metadata": {},
   "outputs": [],
   "source": [
    "y_pred_svm = y_pred"
   ]
  },
  {
   "cell_type": "code",
   "execution_count": null,
   "id": "61fd9275",
   "metadata": {},
   "outputs": [],
   "source": []
  },
  {
   "cell_type": "markdown",
   "id": "2fb9cc28",
   "metadata": {},
   "source": [
    "# MLP (Multi Layer Perceptron)"
   ]
  },
  {
   "cell_type": "code",
   "execution_count": 55,
   "id": "d6fb93c0",
   "metadata": {},
   "outputs": [],
   "source": [
    "x_train = x_train_os.copy()\n",
    "y_train = y_train_os.copy()"
   ]
  },
  {
   "cell_type": "code",
   "execution_count": 56,
   "id": "cffef0a1",
   "metadata": {},
   "outputs": [],
   "source": [
    "x_test = test.drop(columns = ['Flare Class'])\n",
    "y_test = test['Flare Class']"
   ]
  },
  {
   "cell_type": "code",
   "execution_count": 57,
   "id": "7ae8b6eb",
   "metadata": {},
   "outputs": [],
   "source": [
    "scaler = preprocessing.StandardScaler()\n",
    "scaler.fit(x_train)\n",
    "x_train_scaled = scaler.transform(x_train)\n",
    "scaler.fit(x_test)\n",
    "x_test_scaled = scaler.transform(x_test)"
   ]
  },
  {
   "cell_type": "code",
   "execution_count": 58,
   "id": "6cbd5cc5",
   "metadata": {},
   "outputs": [],
   "source": [
    "from sklearn.neural_network import MLPClassifier"
   ]
  },
  {
   "cell_type": "code",
   "execution_count": 59,
   "id": "2a9ace8a",
   "metadata": {},
   "outputs": [],
   "source": [
    "h = []\n",
    "for i in range(0,200):\n",
    "    h.append(150)\n",
    "h = tuple(h)\n",
    "alg_model = MLPClassifier(hidden_layer_sizes=h, \n",
    "                              activation='relu', \n",
    "                              solver='lbfgs', \n",
    "                              batch_size=200)"
   ]
  },
  {
   "cell_type": "code",
   "execution_count": 60,
   "id": "a7f249f7",
   "metadata": {},
   "outputs": [],
   "source": [
    "alg_model.fit(x_train_scaled,y_train)\n",
    "y_pred_mlp=alg_model.predict(x_test_scaled)"
   ]
  },
  {
   "cell_type": "code",
   "execution_count": 61,
   "id": "b2968e5d",
   "metadata": {},
   "outputs": [
    {
     "data": {
      "text/plain": [
       "0.375"
      ]
     },
     "execution_count": 61,
     "metadata": {},
     "output_type": "execute_result"
    }
   ],
   "source": [
    "alg_model.score(x_test_scaled, y_test)"
   ]
  },
  {
   "cell_type": "code",
   "execution_count": 62,
   "id": "ee39d345",
   "metadata": {},
   "outputs": [],
   "source": [
    "y_pred_mlp = alg_model.predict(x_test_scaled)"
   ]
  },
  {
   "cell_type": "markdown",
   "id": "f660c52b",
   "metadata": {},
   "source": [
    "# ELM (Extreme Learning Machines)"
   ]
  },
  {
   "cell_type": "code",
   "execution_count": 63,
   "id": "04914ae1",
   "metadata": {},
   "outputs": [
    {
     "name": "stdout",
     "output_type": "stream",
     "text": [
      "Requirement already satisfied: sklearn-extensions==0.0.2 in c:\\users\\226735 c2in\\appdata\\local\\programs\\python\\python37\\lib\\site-packages (0.0.2)\n",
      "Requirement already satisfied: numpy>=1.9.0 in c:\\users\\226735 c2in\\appdata\\local\\programs\\python\\python37\\lib\\site-packages (from sklearn-extensions==0.0.2) (1.19.5)\n",
      "Requirement already satisfied: scikit-learn>=0.15 in c:\\users\\226735 c2in\\appdata\\local\\programs\\python\\python37\\lib\\site-packages (from sklearn-extensions==0.0.2) (0.24.2)\n",
      "Requirement already satisfied: scipy>=0.16.0 in c:\\users\\226735 c2in\\appdata\\local\\programs\\python\\python37\\lib\\site-packages (from sklearn-extensions==0.0.2) (1.7.3)\n",
      "Requirement already satisfied: joblib>=0.11 in c:\\users\\226735 c2in\\appdata\\roaming\\python\\python37\\site-packages (from scikit-learn>=0.15->sklearn-extensions==0.0.2) (1.1.0)\n",
      "Requirement already satisfied: threadpoolctl>=2.0.0 in c:\\users\\226735 c2in\\appdata\\local\\programs\\python\\python37\\lib\\site-packages (from scikit-learn>=0.15->sklearn-extensions==0.0.2) (3.1.0)\n",
      "Note: you may need to restart the kernel to use updated packages.\n"
     ]
    },
    {
     "name": "stderr",
     "output_type": "stream",
     "text": [
      "You are using pip version 19.0.3, however version 22.3.1 is available.\n",
      "You should consider upgrading via the 'python -m pip install --upgrade pip' command.\n"
     ]
    }
   ],
   "source": [
    "pip install sklearn-extensions==0.0.2"
   ]
  },
  {
   "cell_type": "code",
   "execution_count": 64,
   "id": "fce124ae",
   "metadata": {},
   "outputs": [
    {
     "name": "stdout",
     "output_type": "stream",
     "text": [
      "3.7.4\n"
     ]
    }
   ],
   "source": [
    "from platform import python_version\n",
    "print(python_version())"
   ]
  },
  {
   "cell_type": "code",
   "execution_count": 65,
   "id": "b2edf47a",
   "metadata": {},
   "outputs": [
    {
     "name": "stdout",
     "output_type": "stream",
     "text": [
      "Requirement already satisfied: numpy==1.19.5 in c:\\users\\226735 c2in\\appdata\\local\\programs\\python\\python37\\lib\\site-packages (1.19.5)\n",
      "Note: you may need to restart the kernel to use updated packages.\n"
     ]
    },
    {
     "name": "stderr",
     "output_type": "stream",
     "text": [
      "You are using pip version 19.0.3, however version 22.3.1 is available.\n",
      "You should consider upgrading via the 'python -m pip install --upgrade pip' command.\n"
     ]
    }
   ],
   "source": [
    "pip install numpy==1.19.5"
   ]
  },
  {
   "cell_type": "code",
   "execution_count": 66,
   "id": "15b6f942",
   "metadata": {},
   "outputs": [
    {
     "name": "stdout",
     "output_type": "stream",
     "text": [
      "Requirement already satisfied: scikit-learn==0.24.2 in c:\\users\\226735 c2in\\appdata\\local\\programs\\python\\python37\\lib\\site-packages (0.24.2)\n",
      "Requirement already satisfied: threadpoolctl>=2.0.0 in c:\\users\\226735 c2in\\appdata\\local\\programs\\python\\python37\\lib\\site-packages (from scikit-learn==0.24.2) (3.1.0)\n",
      "Requirement already satisfied: scipy>=0.19.1 in c:\\users\\226735 c2in\\appdata\\local\\programs\\python\\python37\\lib\\site-packages (from scikit-learn==0.24.2) (1.7.3)\n",
      "Requirement already satisfied: numpy>=1.13.3 in c:\\users\\226735 c2in\\appdata\\local\\programs\\python\\python37\\lib\\site-packages (from scikit-learn==0.24.2) (1.19.5)\n",
      "Requirement already satisfied: joblib>=0.11 in c:\\users\\226735 c2in\\appdata\\roaming\\python\\python37\\site-packages (from scikit-learn==0.24.2) (1.1.0)\n",
      "Note: you may need to restart the kernel to use updated packages.\n"
     ]
    },
    {
     "name": "stderr",
     "output_type": "stream",
     "text": [
      "You are using pip version 19.0.3, however version 22.3.1 is available.\n",
      "You should consider upgrading via the 'python -m pip install --upgrade pip' command.\n"
     ]
    }
   ],
   "source": [
    "pip install scikit-learn==0.24.2"
   ]
  },
  {
   "cell_type": "code",
   "execution_count": 67,
   "id": "e5ff0f81",
   "metadata": {},
   "outputs": [
    {
     "name": "stdout",
     "output_type": "stream",
     "text": [
      "Requirement already satisfied: matplotlib==3.4.2 in c:\\users\\226735 c2in\\appdata\\local\\programs\\python\\python37\\lib\\site-packages (3.4.2)\n",
      "Requirement already satisfied: pyparsing>=2.2.1 in c:\\users\\226735 c2in\\appdata\\roaming\\python\\python37\\site-packages (from matplotlib==3.4.2) (3.0.6)\n",
      "Requirement already satisfied: kiwisolver>=1.0.1 in c:\\users\\226735 c2in\\appdata\\roaming\\python\\python37\\site-packages (from matplotlib==3.4.2) (1.3.2)\n",
      "Requirement already satisfied: cycler>=0.10 in c:\\users\\226735 c2in\\appdata\\roaming\\python\\python37\\site-packages (from matplotlib==3.4.2) (0.11.0)\n",
      "Requirement already satisfied: pillow>=6.2.0 in c:\\users\\226735 c2in\\appdata\\roaming\\python\\python37\\site-packages (from matplotlib==3.4.2) (8.4.0)\n",
      "Requirement already satisfied: python-dateutil>=2.7 in c:\\users\\226735 c2in\\appdata\\roaming\\python\\python37\\site-packages (from matplotlib==3.4.2) (2.8.2)\n",
      "Requirement already satisfied: numpy>=1.16 in c:\\users\\226735 c2in\\appdata\\local\\programs\\python\\python37\\lib\\site-packages (from matplotlib==3.4.2) (1.19.5)\n",
      "Requirement already satisfied: six>=1.5 in c:\\users\\226735 c2in\\appdata\\roaming\\python\\python37\\site-packages (from python-dateutil>=2.7->matplotlib==3.4.2) (1.16.0)\n",
      "Note: you may need to restart the kernel to use updated packages.\n"
     ]
    },
    {
     "name": "stderr",
     "output_type": "stream",
     "text": [
      "You are using pip version 19.0.3, however version 22.3.1 is available.\n",
      "You should consider upgrading via the 'python -m pip install --upgrade pip' command.\n"
     ]
    }
   ],
   "source": [
    "pip install matplotlib==3.4.2"
   ]
  },
  {
   "cell_type": "code",
   "execution_count": 68,
   "id": "6034807b",
   "metadata": {},
   "outputs": [
    {
     "name": "stdout",
     "output_type": "stream",
     "text": [
      "Requirement already satisfied: pandas==1.2.4 in c:\\users\\226735 c2in\\appdata\\local\\programs\\python\\python37\\lib\\site-packages (1.2.4)\n",
      "Requirement already satisfied: python-dateutil>=2.7.3 in c:\\users\\226735 c2in\\appdata\\roaming\\python\\python37\\site-packages (from pandas==1.2.4) (2.8.2)\n",
      "Requirement already satisfied: pytz>=2017.3 in c:\\users\\226735 c2in\\appdata\\local\\programs\\python\\python37\\lib\\site-packages (from pandas==1.2.4) (2021.3)\n",
      "Requirement already satisfied: numpy>=1.16.5 in c:\\users\\226735 c2in\\appdata\\local\\programs\\python\\python37\\lib\\site-packages (from pandas==1.2.4) (1.19.5)\n",
      "Requirement already satisfied: six>=1.5 in c:\\users\\226735 c2in\\appdata\\roaming\\python\\python37\\site-packages (from python-dateutil>=2.7.3->pandas==1.2.4) (1.16.0)\n",
      "Note: you may need to restart the kernel to use updated packages.\n"
     ]
    },
    {
     "name": "stderr",
     "output_type": "stream",
     "text": [
      "You are using pip version 19.0.3, however version 22.3.1 is available.\n",
      "You should consider upgrading via the 'python -m pip install --upgrade pip' command.\n"
     ]
    }
   ],
   "source": [
    "pip install pandas==1.2.4"
   ]
  },
  {
   "cell_type": "code",
   "execution_count": 69,
   "id": "b4fd2e8c",
   "metadata": {},
   "outputs": [
    {
     "name": "stderr",
     "output_type": "stream",
     "text": [
      "c:\\users\\226735 c2in\\appdata\\local\\programs\\python\\python37\\lib\\site-packages\\sklearn\\utils\\validation.py:72: FutureWarning: Pass neg_label=-1, pos_label=1 as keyword args. From version 1.0 (renaming of 0.25) passing these as positional arguments will result in an error\n",
      "  \"will result in an error\", FutureWarning)\n"
     ]
    }
   ],
   "source": [
    "from sklearn_extensions.extreme_learning_machines.elm import GenELMClassifier\n",
    "from sklearn_extensions.extreme_learning_machines.random_layer import RBFRandomLayer, MLPRandomLayer"
   ]
  },
  {
   "cell_type": "code",
   "execution_count": 70,
   "id": "516901fa",
   "metadata": {},
   "outputs": [],
   "source": [
    "import sklearn_extensions.extreme_learning_machines.elm as elm"
   ]
  },
  {
   "cell_type": "code",
   "execution_count": 71,
   "id": "f90deb90",
   "metadata": {},
   "outputs": [],
   "source": [
    "from sklearn_extensions.extreme_learning_machines.random_layer import RBFRandomLayer, MLPRandomLayer"
   ]
  },
  {
   "cell_type": "code",
   "execution_count": 72,
   "id": "e3518908",
   "metadata": {},
   "outputs": [],
   "source": [
    "ml_layer = MLPRandomLayer(n_hidden=200, \n",
    "                              activation_func='tanh')\n",
    "alg_model = GenELMClassifier(hidden_layer=ml_layer)"
   ]
  },
  {
   "cell_type": "code",
   "execution_count": 73,
   "id": "1b8509c9",
   "metadata": {},
   "outputs": [
    {
     "data": {
      "text/plain": [
       "array(['B', 'B', 'C', 'B', 'M', 'M', 'B', 'B', 'M', 'C', 'X', 'B', 'M',\n",
       "       'B', 'B', 'C', 'M', 'C', 'B', 'B', 'X', 'M', 'M', 'X', 'X', 'M',\n",
       "       'M', 'X', 'M', 'X', 'C', 'M', 'M', 'B', 'M', 'M', 'M', 'M', 'M',\n",
       "       'C'], dtype='<U1')"
      ]
     },
     "execution_count": 73,
     "metadata": {},
     "output_type": "execute_result"
    }
   ],
   "source": [
    "alg_model.fit(x_train_scaled,y_train)\n",
    "alg_model.predict(x_test_scaled)"
   ]
  },
  {
   "cell_type": "code",
   "execution_count": 74,
   "id": "14a78aa1",
   "metadata": {},
   "outputs": [
    {
     "data": {
      "text/plain": [
       "0.475"
      ]
     },
     "execution_count": 74,
     "metadata": {},
     "output_type": "execute_result"
    }
   ],
   "source": [
    "alg_model.score(x_test_scaled, y_test)"
   ]
  },
  {
   "cell_type": "code",
   "execution_count": 75,
   "id": "adac36aa",
   "metadata": {},
   "outputs": [],
   "source": [
    "y_pred_elm = alg_model.predict(x_test_scaled)"
   ]
  },
  {
   "cell_type": "markdown",
   "id": "b4b43566",
   "metadata": {},
   "source": [
    "# Bagging"
   ]
  },
  {
   "cell_type": "code",
   "execution_count": 76,
   "id": "fa429829",
   "metadata": {},
   "outputs": [
    {
     "data": {
      "text/plain": [
       "array(['B', 'B', 'M', 'B', 'B', 'M', 'B', 'B', 'B', 'C', 'M', 'B', 'B',\n",
       "       'B', 'B', 'B', 'B', 'B', 'B', 'B', 'X', 'X', 'X', 'X', 'M', 'M',\n",
       "       'M', 'M', 'M', 'M', 'B', 'C', 'C', 'B', 'B', 'C', 'M', 'C', 'C',\n",
       "       'B'], dtype=object)"
      ]
     },
     "execution_count": 76,
     "metadata": {},
     "output_type": "execute_result"
    }
   ],
   "source": [
    "from numpy import mean\n",
    "from numpy import std\n",
    "from sklearn.model_selection import RepeatedStratifiedKFold\n",
    "from sklearn.ensemble import BaggingClassifier\n",
    "model = BaggingClassifier()\n",
    "model.fit(x_train, y_train)\n",
    "model.predict(x_test)\n"
   ]
  },
  {
   "cell_type": "code",
   "execution_count": 77,
   "id": "d8cb4026",
   "metadata": {},
   "outputs": [
    {
     "data": {
      "text/plain": [
       "0.85"
      ]
     },
     "execution_count": 77,
     "metadata": {},
     "output_type": "execute_result"
    }
   ],
   "source": [
    "model.score(x_test, y_test)"
   ]
  },
  {
   "cell_type": "code",
   "execution_count": 78,
   "id": "3439fd21",
   "metadata": {},
   "outputs": [],
   "source": [
    "y_pred_bagging = model.predict(x_test)"
   ]
  },
  {
   "cell_type": "markdown",
   "id": "af171a72",
   "metadata": {},
   "source": [
    "# AdaBoost"
   ]
  },
  {
   "cell_type": "code",
   "execution_count": 79,
   "id": "e223dac8",
   "metadata": {},
   "outputs": [
    {
     "data": {
      "text/plain": [
       "array(['B', 'B', 'B', 'B', 'B', 'B', 'B', 'B', 'M', 'B', 'B', 'B', 'B',\n",
       "       'B', 'B', 'B', 'B', 'B', 'B', 'B', 'X', 'X', 'M', 'X', 'B', 'M',\n",
       "       'M', 'X', 'M', 'X', 'B', 'M', 'M', 'B', 'B', 'C', 'C', 'B', 'B',\n",
       "       'B'], dtype=object)"
      ]
     },
     "execution_count": 79,
     "metadata": {},
     "output_type": "execute_result"
    }
   ],
   "source": [
    "from sklearn.ensemble import AdaBoostClassifier\n",
    "\n",
    "clf = AdaBoostClassifier(random_state = 2)\n",
    "clf.fit(x_train, y_train)\n",
    "clf.predict(x_test)\n"
   ]
  },
  {
   "cell_type": "code",
   "execution_count": 80,
   "id": "98355976",
   "metadata": {},
   "outputs": [
    {
     "data": {
      "text/plain": [
       "{'algorithm': 'SAMME.R',\n",
       " 'base_estimator': None,\n",
       " 'learning_rate': 1.0,\n",
       " 'n_estimators': 50,\n",
       " 'random_state': 2}"
      ]
     },
     "execution_count": 80,
     "metadata": {},
     "output_type": "execute_result"
    }
   ],
   "source": [
    "clf.get_params()"
   ]
  },
  {
   "cell_type": "code",
   "execution_count": 81,
   "id": "7ee47583",
   "metadata": {},
   "outputs": [
    {
     "data": {
      "text/plain": [
       "0.575"
      ]
     },
     "execution_count": 81,
     "metadata": {},
     "output_type": "execute_result"
    }
   ],
   "source": [
    "clf.score(x_test, y_test)"
   ]
  },
  {
   "cell_type": "code",
   "execution_count": 82,
   "id": "79d898f4",
   "metadata": {},
   "outputs": [],
   "source": [
    "y_pred_adaboost = clf.predict(x_test)"
   ]
  },
  {
   "cell_type": "markdown",
   "id": "504f6f1c",
   "metadata": {},
   "source": [
    "# GradientBoostingClassifier"
   ]
  },
  {
   "cell_type": "code",
   "execution_count": 83,
   "id": "0bf611f9",
   "metadata": {},
   "outputs": [
    {
     "data": {
      "text/plain": [
       "array(['B', 'B', 'M', 'B', 'B', 'M', 'B', 'B', 'B', 'C', 'M', 'B', 'B',\n",
       "       'B', 'B', 'B', 'B', 'B', 'B', 'B', 'X', 'X', 'X', 'X', 'M', 'M',\n",
       "       'M', 'M', 'M', 'M', 'B', 'C', 'M', 'B', 'B', 'C', 'M', 'C', 'B',\n",
       "       'C'], dtype=object)"
      ]
     },
     "execution_count": 83,
     "metadata": {},
     "output_type": "execute_result"
    }
   ],
   "source": [
    "from sklearn.ensemble import GradientBoostingClassifier\n",
    "\n",
    "clf11 = GradientBoostingClassifier(random_state = 2)\n",
    "clf11.fit(x_train, y_train)\n",
    "clf11.predict(x_test)\n"
   ]
  },
  {
   "cell_type": "code",
   "execution_count": 84,
   "id": "d28e330b",
   "metadata": {},
   "outputs": [
    {
     "data": {
      "text/plain": [
       "{'ccp_alpha': 0.0,\n",
       " 'criterion': 'friedman_mse',\n",
       " 'init': None,\n",
       " 'learning_rate': 0.1,\n",
       " 'loss': 'deviance',\n",
       " 'max_depth': 3,\n",
       " 'max_features': None,\n",
       " 'max_leaf_nodes': None,\n",
       " 'min_impurity_decrease': 0.0,\n",
       " 'min_impurity_split': None,\n",
       " 'min_samples_leaf': 1,\n",
       " 'min_samples_split': 2,\n",
       " 'min_weight_fraction_leaf': 0.0,\n",
       " 'n_estimators': 100,\n",
       " 'n_iter_no_change': None,\n",
       " 'random_state': 2,\n",
       " 'subsample': 1.0,\n",
       " 'tol': 0.0001,\n",
       " 'validation_fraction': 0.1,\n",
       " 'verbose': 0,\n",
       " 'warm_start': False}"
      ]
     },
     "execution_count": 84,
     "metadata": {},
     "output_type": "execute_result"
    }
   ],
   "source": [
    "clf11.get_params()"
   ]
  },
  {
   "cell_type": "code",
   "execution_count": 85,
   "id": "268b38a5",
   "metadata": {},
   "outputs": [
    {
     "data": {
      "text/plain": [
       "0.825"
      ]
     },
     "execution_count": 85,
     "metadata": {},
     "output_type": "execute_result"
    }
   ],
   "source": [
    "clf11.score(x_test, y_test)"
   ]
  },
  {
   "cell_type": "code",
   "execution_count": 86,
   "id": "68abd7ec",
   "metadata": {},
   "outputs": [],
   "source": [
    "y_pred_gboost = clf11.predict(x_test)"
   ]
  },
  {
   "cell_type": "markdown",
   "id": "5a391bb9",
   "metadata": {},
   "source": [
    "# ExtraTreesClassifier"
   ]
  },
  {
   "cell_type": "code",
   "execution_count": 87,
   "id": "5ff02537",
   "metadata": {},
   "outputs": [
    {
     "data": {
      "text/plain": [
       "array(['B', 'B', 'M', 'B', 'B', 'M', 'B', 'B', 'B', 'C', 'M', 'B', 'B',\n",
       "       'B', 'B', 'B', 'B', 'B', 'B', 'B', 'X', 'X', 'X', 'X', 'M', 'M',\n",
       "       'M', 'M', 'M', 'M', 'B', 'C', 'C', 'B', 'B', 'C', 'M', 'C', 'B',\n",
       "       'C'], dtype=object)"
      ]
     },
     "execution_count": 87,
     "metadata": {},
     "output_type": "execute_result"
    }
   ],
   "source": [
    "from sklearn.ensemble import ExtraTreesClassifier\n",
    "clf12 = ExtraTreesClassifier(random_state = 2)\n",
    "clf12.fit(x_train, y_train)\n",
    "clf12.predict(x_test)\n",
    "\n"
   ]
  },
  {
   "cell_type": "code",
   "execution_count": 88,
   "id": "b9c40787",
   "metadata": {},
   "outputs": [
    {
     "data": {
      "text/plain": [
       "{'bootstrap': False,\n",
       " 'ccp_alpha': 0.0,\n",
       " 'class_weight': None,\n",
       " 'criterion': 'gini',\n",
       " 'max_depth': None,\n",
       " 'max_features': 'auto',\n",
       " 'max_leaf_nodes': None,\n",
       " 'max_samples': None,\n",
       " 'min_impurity_decrease': 0.0,\n",
       " 'min_impurity_split': None,\n",
       " 'min_samples_leaf': 1,\n",
       " 'min_samples_split': 2,\n",
       " 'min_weight_fraction_leaf': 0.0,\n",
       " 'n_estimators': 100,\n",
       " 'n_jobs': None,\n",
       " 'oob_score': False,\n",
       " 'random_state': 2,\n",
       " 'verbose': 0,\n",
       " 'warm_start': False}"
      ]
     },
     "execution_count": 88,
     "metadata": {},
     "output_type": "execute_result"
    }
   ],
   "source": [
    "clf12.get_params()"
   ]
  },
  {
   "cell_type": "code",
   "execution_count": 89,
   "id": "f63c4351",
   "metadata": {},
   "outputs": [
    {
     "data": {
      "text/plain": [
       "0.85"
      ]
     },
     "execution_count": 89,
     "metadata": {},
     "output_type": "execute_result"
    }
   ],
   "source": [
    "clf12.score(x_test, y_test)"
   ]
  },
  {
   "cell_type": "code",
   "execution_count": 90,
   "id": "c2af3f36",
   "metadata": {},
   "outputs": [],
   "source": [
    "y_pred_extratrees = clf12.predict(x_test)"
   ]
  },
  {
   "cell_type": "markdown",
   "id": "228822de",
   "metadata": {},
   "source": [
    "# GaaussianProcess Classifier"
   ]
  },
  {
   "cell_type": "code",
   "execution_count": 91,
   "id": "e3c7b12f",
   "metadata": {},
   "outputs": [
    {
     "data": {
      "text/plain": [
       "array(['X', 'X', 'X', 'X', 'X', 'X', 'X', 'X', 'X', 'X', 'X', 'X', 'X',\n",
       "       'X', 'X', 'X', 'X', 'X', 'X', 'X', 'X', 'X', 'X', 'X', 'X', 'X',\n",
       "       'X', 'X', 'X', 'X', 'X', 'X', 'X', 'X', 'X', 'X', 'X', 'X', 'X',\n",
       "       'X'], dtype='<U1')"
      ]
     },
     "execution_count": 91,
     "metadata": {},
     "output_type": "execute_result"
    }
   ],
   "source": [
    "from sklearn.gaussian_process import GaussianProcessClassifier\n",
    "from sklearn.gaussian_process.kernels import RBF\n",
    "kernel = 1.0 * RBF(1.0)\n",
    "clf13 = GaussianProcessClassifier(kernel=kernel,random_state=2)\n",
    "clf13.fit(x_train, y_train)\n",
    "clf13.predict(x_test)"
   ]
  },
  {
   "cell_type": "code",
   "execution_count": 92,
   "id": "02193c0a",
   "metadata": {},
   "outputs": [
    {
     "data": {
      "text/plain": [
       "{'copy_X_train': True,\n",
       " 'kernel__k1': 1**2,\n",
       " 'kernel__k2': RBF(length_scale=1),\n",
       " 'kernel__k1__constant_value': 1.0,\n",
       " 'kernel__k1__constant_value_bounds': (1e-05, 100000.0),\n",
       " 'kernel__k2__length_scale': 1.0,\n",
       " 'kernel__k2__length_scale_bounds': (1e-05, 100000.0),\n",
       " 'kernel': 1**2 * RBF(length_scale=1),\n",
       " 'max_iter_predict': 100,\n",
       " 'multi_class': 'one_vs_rest',\n",
       " 'n_jobs': None,\n",
       " 'n_restarts_optimizer': 0,\n",
       " 'optimizer': 'fmin_l_bfgs_b',\n",
       " 'random_state': 2,\n",
       " 'warm_start': False}"
      ]
     },
     "execution_count": 92,
     "metadata": {},
     "output_type": "execute_result"
    }
   ],
   "source": [
    "clf13.get_params()"
   ]
  },
  {
   "cell_type": "code",
   "execution_count": 93,
   "id": "cacf574d",
   "metadata": {},
   "outputs": [
    {
     "data": {
      "text/plain": [
       "0.1"
      ]
     },
     "execution_count": 93,
     "metadata": {},
     "output_type": "execute_result"
    }
   ],
   "source": [
    "clf13.score(x_test, y_test)"
   ]
  },
  {
   "cell_type": "markdown",
   "id": "56f5fdbb",
   "metadata": {},
   "source": [
    "# PassiveAgressive Classifier"
   ]
  },
  {
   "cell_type": "code",
   "execution_count": 94,
   "id": "6dd440c5",
   "metadata": {},
   "outputs": [
    {
     "data": {
      "text/plain": [
       "array(['M', 'B', 'M', 'B', 'M', 'C', 'X', 'B', 'C', 'X', 'M', 'B', 'M',\n",
       "       'C', 'C', 'B', 'B', 'X', 'X', 'M', 'X', 'X', 'M', 'X', 'M', 'B',\n",
       "       'B', 'M', 'M', 'M', 'B', 'X', 'X', 'B', 'B', 'X', 'M', 'B', 'B',\n",
       "       'B'], dtype='<U1')"
      ]
     },
     "execution_count": 94,
     "metadata": {},
     "output_type": "execute_result"
    }
   ],
   "source": [
    "from sklearn.linear_model import PassiveAggressiveClassifier\n",
    "clf14 = PassiveAggressiveClassifier(max_iter=100,random_state=0)\n",
    "clf14.fit(x_train, y_train)\n",
    "clf14.predict(x_test)"
   ]
  },
  {
   "cell_type": "code",
   "execution_count": 95,
   "id": "ce94b9a8",
   "metadata": {},
   "outputs": [
    {
     "data": {
      "text/plain": [
       "{'C': 1.0,\n",
       " 'average': False,\n",
       " 'class_weight': None,\n",
       " 'early_stopping': False,\n",
       " 'fit_intercept': True,\n",
       " 'loss': 'hinge',\n",
       " 'max_iter': 100,\n",
       " 'n_iter_no_change': 5,\n",
       " 'n_jobs': None,\n",
       " 'random_state': 0,\n",
       " 'shuffle': True,\n",
       " 'tol': 0.001,\n",
       " 'validation_fraction': 0.1,\n",
       " 'verbose': 0,\n",
       " 'warm_start': False}"
      ]
     },
     "execution_count": 95,
     "metadata": {},
     "output_type": "execute_result"
    }
   ],
   "source": [
    "clf14.get_params()"
   ]
  },
  {
   "cell_type": "code",
   "execution_count": 96,
   "id": "f1715425",
   "metadata": {},
   "outputs": [
    {
     "data": {
      "text/plain": [
       "0.4"
      ]
     },
     "execution_count": 96,
     "metadata": {},
     "output_type": "execute_result"
    }
   ],
   "source": [
    "clf14.score(x_test, y_test)"
   ]
  },
  {
   "cell_type": "markdown",
   "id": "0861ba3a",
   "metadata": {},
   "source": [
    "# Stacking Classifier"
   ]
  },
  {
   "cell_type": "code",
   "execution_count": 97,
   "id": "f4335e22",
   "metadata": {},
   "outputs": [
    {
     "data": {
      "text/plain": [
       "array(['B', 'B', 'M', 'B', 'B', 'M', 'B', 'B', 'C', 'C', 'M', 'B', 'B',\n",
       "       'B', 'B', 'B', 'B', 'B', 'B', 'B', 'X', 'X', 'X', 'X', 'M', 'M',\n",
       "       'M', 'M', 'M', 'M', 'B', 'C', 'M', 'B', 'B', 'C', 'C', 'B', 'C',\n",
       "       'B'], dtype=object)"
      ]
     },
     "execution_count": 97,
     "metadata": {},
     "output_type": "execute_result"
    }
   ],
   "source": [
    "from sklearn.pipeline import make_pipeline\n",
    "from sklearn.ensemble import StackingClassifier\n",
    "from sklearn.preprocessing import StandardScaler\n",
    "from sklearn.svm import LinearSVC\n",
    "\n",
    "estimators = [('rf', RandomForestClassifier(n_estimators=10, random_state=2)), ('et', ExtraTreesClassifier(n_estimators=100,random_state=2))     ,\n",
    "                        ('bag', BaggingClassifier(random_state=2))]\n",
    "clf15 = StackingClassifier(\n",
    "     estimators=estimators, final_estimator=GradientBoostingClassifier())\n",
    "\n",
    "clf15.fit(x_train, y_train)\n",
    "clf15.predict(x_test)"
   ]
  },
  {
   "cell_type": "code",
   "execution_count": 98,
   "id": "d32a15b9",
   "metadata": {},
   "outputs": [
    {
     "data": {
      "text/plain": [
       "{'cv': None,\n",
       " 'estimators': [('rf',\n",
       "   RandomForestClassifier(n_estimators=10, random_state=2)),\n",
       "  ('et', ExtraTreesClassifier(random_state=2)),\n",
       "  ('bag', BaggingClassifier(random_state=2))],\n",
       " 'final_estimator__ccp_alpha': 0.0,\n",
       " 'final_estimator__criterion': 'friedman_mse',\n",
       " 'final_estimator__init': None,\n",
       " 'final_estimator__learning_rate': 0.1,\n",
       " 'final_estimator__loss': 'deviance',\n",
       " 'final_estimator__max_depth': 3,\n",
       " 'final_estimator__max_features': None,\n",
       " 'final_estimator__max_leaf_nodes': None,\n",
       " 'final_estimator__min_impurity_decrease': 0.0,\n",
       " 'final_estimator__min_impurity_split': None,\n",
       " 'final_estimator__min_samples_leaf': 1,\n",
       " 'final_estimator__min_samples_split': 2,\n",
       " 'final_estimator__min_weight_fraction_leaf': 0.0,\n",
       " 'final_estimator__n_estimators': 100,\n",
       " 'final_estimator__n_iter_no_change': None,\n",
       " 'final_estimator__random_state': None,\n",
       " 'final_estimator__subsample': 1.0,\n",
       " 'final_estimator__tol': 0.0001,\n",
       " 'final_estimator__validation_fraction': 0.1,\n",
       " 'final_estimator__verbose': 0,\n",
       " 'final_estimator__warm_start': False,\n",
       " 'final_estimator': GradientBoostingClassifier(),\n",
       " 'n_jobs': None,\n",
       " 'passthrough': False,\n",
       " 'stack_method': 'auto',\n",
       " 'verbose': 0,\n",
       " 'rf': RandomForestClassifier(n_estimators=10, random_state=2),\n",
       " 'et': ExtraTreesClassifier(random_state=2),\n",
       " 'bag': BaggingClassifier(random_state=2),\n",
       " 'rf__bootstrap': True,\n",
       " 'rf__ccp_alpha': 0.0,\n",
       " 'rf__class_weight': None,\n",
       " 'rf__criterion': 'gini',\n",
       " 'rf__max_depth': None,\n",
       " 'rf__max_features': 'auto',\n",
       " 'rf__max_leaf_nodes': None,\n",
       " 'rf__max_samples': None,\n",
       " 'rf__min_impurity_decrease': 0.0,\n",
       " 'rf__min_impurity_split': None,\n",
       " 'rf__min_samples_leaf': 1,\n",
       " 'rf__min_samples_split': 2,\n",
       " 'rf__min_weight_fraction_leaf': 0.0,\n",
       " 'rf__n_estimators': 10,\n",
       " 'rf__n_jobs': None,\n",
       " 'rf__oob_score': False,\n",
       " 'rf__random_state': 2,\n",
       " 'rf__verbose': 0,\n",
       " 'rf__warm_start': False,\n",
       " 'et__bootstrap': False,\n",
       " 'et__ccp_alpha': 0.0,\n",
       " 'et__class_weight': None,\n",
       " 'et__criterion': 'gini',\n",
       " 'et__max_depth': None,\n",
       " 'et__max_features': 'auto',\n",
       " 'et__max_leaf_nodes': None,\n",
       " 'et__max_samples': None,\n",
       " 'et__min_impurity_decrease': 0.0,\n",
       " 'et__min_impurity_split': None,\n",
       " 'et__min_samples_leaf': 1,\n",
       " 'et__min_samples_split': 2,\n",
       " 'et__min_weight_fraction_leaf': 0.0,\n",
       " 'et__n_estimators': 100,\n",
       " 'et__n_jobs': None,\n",
       " 'et__oob_score': False,\n",
       " 'et__random_state': 2,\n",
       " 'et__verbose': 0,\n",
       " 'et__warm_start': False,\n",
       " 'bag__base_estimator': None,\n",
       " 'bag__bootstrap': True,\n",
       " 'bag__bootstrap_features': False,\n",
       " 'bag__max_features': 1.0,\n",
       " 'bag__max_samples': 1.0,\n",
       " 'bag__n_estimators': 10,\n",
       " 'bag__n_jobs': None,\n",
       " 'bag__oob_score': False,\n",
       " 'bag__random_state': 2,\n",
       " 'bag__verbose': 0,\n",
       " 'bag__warm_start': False}"
      ]
     },
     "execution_count": 98,
     "metadata": {},
     "output_type": "execute_result"
    }
   ],
   "source": [
    "clf15.get_params()"
   ]
  },
  {
   "cell_type": "code",
   "execution_count": 99,
   "id": "98e5279e",
   "metadata": {},
   "outputs": [
    {
     "data": {
      "text/plain": [
       "0.85"
      ]
     },
     "execution_count": 99,
     "metadata": {},
     "output_type": "execute_result"
    }
   ],
   "source": [
    "clf15.score(x_test, y_test)"
   ]
  },
  {
   "cell_type": "markdown",
   "id": "e54ec285",
   "metadata": {},
   "source": [
    "# ENS for RF, KNN, NB"
   ]
  },
  {
   "cell_type": "code",
   "execution_count": 100,
   "id": "aa7fbadf",
   "metadata": {},
   "outputs": [],
   "source": [
    "def compute_ens_result(rf_result, knn_result, nb_result):\n",
    "    final_results = []\n",
    "    for i in range(0, len(rf_result)):\n",
    "        rf_p = rf_result[i]\n",
    "        knn_p = knn_result[i]\n",
    "        nb_p = nb_result[i]\n",
    "        if rf_p == knn_p and rf_p == nb_p :\n",
    "            final_results.append(rf_p) \n",
    "        elif rf_p == knn_p or rf_p == nb_p :\n",
    "            final_results.append(rf_p)\n",
    "        elif nb_p == knn_p :\n",
    "            final_results.append(knn_p)\n",
    "        else :\n",
    "            final_results.append(rf_p)\n",
    "    \n",
    "    return final_results"
   ]
  },
  {
   "cell_type": "code",
   "execution_count": 101,
   "id": "5384b92c",
   "metadata": {},
   "outputs": [],
   "source": [
    "def compute_ens_result2(rf_flare_result, mlp_result, elm_result):\n",
    "    final_results = []\n",
    "    for i in range(0, len(rf_flare_result)):\n",
    "        rf_flare_p = rf_flare_result[i]\n",
    "        mlp_p = mlp_result[i]\n",
    "        elm_p = elm_result[i]\n",
    "        if rf_flare_p == mlp_p and rf_flare_p == elm_p :\n",
    "            final_results.append(rf_flare_p) \n",
    "        elif rf_flare_p == mlp_p or rf_flare_p == elm_p :\n",
    "            final_results.append(rf_flare_p)\n",
    "        elif elm_p == mlp_p :\n",
    "            final_results.append(mlp_p)\n",
    "        else :\n",
    "            final_results.append(rf_flare_p)\n",
    "    \n",
    "    return final_results"
   ]
  },
  {
   "cell_type": "code",
   "execution_count": 102,
   "id": "acf8d6b0",
   "metadata": {},
   "outputs": [],
   "source": [
    "def compute_ens_result3(rf_result, bagging_result, nb_result):\n",
    "    final_results = []\n",
    "    for i in range(0, len(rf_result)):\n",
    "        rf_p = rf_result[i]\n",
    "        bagging_p = bagging_result[i]\n",
    "        nb_p = nb_result[i]\n",
    "        if rf_p == bagging_p and rf_p == nb_p :\n",
    "            final_results.append(rf_p) \n",
    "        elif rf_p == bagging_p or rf_p == nb_p :\n",
    "            final_results.append(rf_p)\n",
    "        elif nb_p == bagging_p :\n",
    "            final_results.append(bagging_p)\n",
    "        else :\n",
    "            final_results.append(rf_p)\n",
    "    \n",
    "    return final_results"
   ]
  },
  {
   "cell_type": "code",
   "execution_count": 103,
   "id": "7a0395bc",
   "metadata": {},
   "outputs": [],
   "source": [
    "def compute_ens_result4(rf_result, knn_result, bagging_result):\n",
    "    final_results = []\n",
    "    for i in range(0, len(rf_result)):\n",
    "        rf_p = rf_result[i]\n",
    "        bagging_p = bagging_result[i]\n",
    "        knn_p = knn_result[i]\n",
    "        if rf_p == bagging_p and rf_p == knn_p :\n",
    "            final_results.append(rf_p) \n",
    "        elif rf_p == bagging_p or rf_p == knn_p :\n",
    "            final_results.append(rf_p)\n",
    "        elif knn_p == bagging_p :\n",
    "            final_results.append(bagging_p)\n",
    "        else :\n",
    "            final_results.append(rf_p)\n",
    "    \n",
    "    return final_results"
   ]
  },
  {
   "cell_type": "code",
   "execution_count": 104,
   "id": "85018164",
   "metadata": {},
   "outputs": [],
   "source": [
    "def compute_ens_result5(rf_result, bagging_result, adaboost_result):\n",
    "    final_results = []\n",
    "    for i in range(0, len(rf_result)):\n",
    "        rf_p = rf_result[i]\n",
    "        bagging_p = bagging_result[i]\n",
    "        adaboost_p = adaboost_result[i]\n",
    "        if rf_p == bagging_p and rf_p == adaboost_p :\n",
    "            final_results.append(rf_p) \n",
    "        elif rf_p == bagging_p or rf_p == adaboost_p :\n",
    "            final_results.append(rf_p)\n",
    "        elif adaboost_p == bagging_p :\n",
    "            final_results.append(bagging_p)\n",
    "        else :\n",
    "            final_results.append(rf_p)\n",
    "    \n",
    "    return final_results"
   ]
  },
  {
   "cell_type": "code",
   "execution_count": 105,
   "id": "bd30d109",
   "metadata": {},
   "outputs": [],
   "source": [
    "def compute_ens_result6(rf_result, bagging_result, gradientboost_result):\n",
    "    final_results = []\n",
    "    for i in range(0, len(rf_result)):\n",
    "        rf_p = rf_result[i]\n",
    "        bagging_p = bagging_result[i]\n",
    "        gradientboost_p = gradientboost_result[i]\n",
    "        if rf_p == bagging_p and rf_p == gradientboost_p :\n",
    "            final_results.append(rf_p) \n",
    "        elif rf_p == bagging_p or rf_p == gradientboost_p :\n",
    "            final_results.append(rf_p)\n",
    "        elif gradientboost_p == bagging_p :\n",
    "            final_results.append(bagging_p)\n",
    "        else :\n",
    "            final_results.append(rf_p)\n",
    "    \n",
    "    return final_results"
   ]
  },
  {
   "cell_type": "code",
   "execution_count": 106,
   "id": "c7f626ec",
   "metadata": {},
   "outputs": [],
   "source": [
    "def compute_ens_result7(rf_result, bagging_result, gradientboost_result):\n",
    "    final_results = []\n",
    "    for i in range(0, len(rf_result)):\n",
    "        rf_p = rf_result[i]\n",
    "        bagging_p = bagging_result[i]\n",
    "        gradientboost_p = gradientboost_result[i]\n",
    "        if rf_p == bagging_p and rf_p == gradientboost_p :\n",
    "            final_results.append(rf_p) \n",
    "        elif rf_p == bagging_p or rf_p == gradientboost_p :\n",
    "            final_results.append(rf_p)\n",
    "        elif gradientboost_p == bagging_p :\n",
    "            final_results.append(bagging_p)\n",
    "        else :\n",
    "            final_results.append(bagging_p)\n",
    "    \n",
    "    return final_results"
   ]
  },
  {
   "cell_type": "code",
   "execution_count": 107,
   "id": "1e095add",
   "metadata": {},
   "outputs": [],
   "source": [
    "mapping ={1:\"B\", 2:\"C\", 3:\"M\", 4:'X', -1:'N/A'}\n",
    "B = mapping[1]\n",
    "C = mapping[2]\n",
    "M = mapping[3]\n",
    "X = mapping[4]"
   ]
  },
  {
   "cell_type": "code",
   "execution_count": 108,
   "id": "f798de86",
   "metadata": {},
   "outputs": [],
   "source": [
    "ens = compute_ens_result(y_pred_rf,y_pred_knn,y_pred_nb)"
   ]
  },
  {
   "cell_type": "code",
   "execution_count": 109,
   "id": "fa3309ee",
   "metadata": {
    "scrolled": true
   },
   "outputs": [
    {
     "data": {
      "text/plain": [
       "array([[15,  0,  0,  0],\n",
       "       [ 5,  6,  1,  0],\n",
       "       [ 0,  1,  8,  0],\n",
       "       [ 0,  0,  0,  4]], dtype=int64)"
      ]
     },
     "execution_count": 109,
     "metadata": {},
     "output_type": "execute_result"
    }
   ],
   "source": [
    "confusion_matrix(y_test, ens)"
   ]
  },
  {
   "cell_type": "code",
   "execution_count": 110,
   "id": "b915226c",
   "metadata": {},
   "outputs": [],
   "source": [
    "ens2 = compute_ens_result2(y_pred_rf_flare, y_pred_mlp, y_pred_elm)"
   ]
  },
  {
   "cell_type": "code",
   "execution_count": 111,
   "id": "42b51102",
   "metadata": {},
   "outputs": [
    {
     "data": {
      "text/plain": [
       "array([[15,  0,  0,  0],\n",
       "       [ 5,  6,  1,  0],\n",
       "       [ 0,  0,  9,  0],\n",
       "       [ 0,  0,  0,  4]], dtype=int64)"
      ]
     },
     "execution_count": 111,
     "metadata": {},
     "output_type": "execute_result"
    }
   ],
   "source": [
    "confusion_matrix(y_test, ens2)"
   ]
  },
  {
   "cell_type": "code",
   "execution_count": 112,
   "id": "b3158e42",
   "metadata": {},
   "outputs": [],
   "source": [
    "ens3 = compute_ens_result3(y_pred_rf,y_pred_bagging,y_pred_nb)"
   ]
  },
  {
   "cell_type": "code",
   "execution_count": 113,
   "id": "db0c94f3",
   "metadata": {},
   "outputs": [
    {
     "data": {
      "text/plain": [
       "array([[15,  0,  0,  0],\n",
       "       [ 6,  5,  1,  0],\n",
       "       [ 0,  0,  9,  0],\n",
       "       [ 0,  0,  0,  4]], dtype=int64)"
      ]
     },
     "execution_count": 113,
     "metadata": {},
     "output_type": "execute_result"
    }
   ],
   "source": [
    "confusion_matrix(y_test, ens3)"
   ]
  },
  {
   "cell_type": "code",
   "execution_count": 114,
   "id": "8e026ed1",
   "metadata": {},
   "outputs": [],
   "source": [
    "ens4 = compute_ens_result4(y_pred_rf,y_pred_bagging,y_pred_knn)"
   ]
  },
  {
   "cell_type": "code",
   "execution_count": 115,
   "id": "ee0a63e6",
   "metadata": {},
   "outputs": [
    {
     "data": {
      "text/plain": [
       "array([[15,  0,  0,  0],\n",
       "       [ 4,  7,  1,  0],\n",
       "       [ 0,  0,  9,  0],\n",
       "       [ 0,  0,  0,  4]], dtype=int64)"
      ]
     },
     "execution_count": 115,
     "metadata": {},
     "output_type": "execute_result"
    }
   ],
   "source": [
    "confusion_matrix(y_test, ens4)"
   ]
  },
  {
   "cell_type": "code",
   "execution_count": 116,
   "id": "eea218f1",
   "metadata": {},
   "outputs": [],
   "source": [
    "ens5 = compute_ens_result5(y_pred_rf,y_pred_bagging,y_pred_adaboost)"
   ]
  },
  {
   "cell_type": "code",
   "execution_count": 117,
   "id": "92dd6585",
   "metadata": {},
   "outputs": [
    {
     "data": {
      "text/plain": [
       "array([[15,  0,  0,  0],\n",
       "       [ 6,  5,  1,  0],\n",
       "       [ 0,  0,  9,  0],\n",
       "       [ 0,  0,  0,  4]], dtype=int64)"
      ]
     },
     "execution_count": 117,
     "metadata": {},
     "output_type": "execute_result"
    }
   ],
   "source": [
    "confusion_matrix(y_test, ens5)"
   ]
  },
  {
   "cell_type": "code",
   "execution_count": 118,
   "id": "9830042d",
   "metadata": {},
   "outputs": [],
   "source": [
    "ens6 = compute_ens_result6(y_pred_rf,y_pred_bagging,y_pred_gboost)"
   ]
  },
  {
   "cell_type": "code",
   "execution_count": 119,
   "id": "98fb7785",
   "metadata": {},
   "outputs": [
    {
     "data": {
      "text/plain": [
       "array([[15,  0,  0,  0],\n",
       "       [ 5,  6,  1,  0],\n",
       "       [ 0,  0,  9,  0],\n",
       "       [ 0,  0,  0,  4]], dtype=int64)"
      ]
     },
     "execution_count": 119,
     "metadata": {},
     "output_type": "execute_result"
    }
   ],
   "source": [
    "confusion_matrix(y_test, ens6)"
   ]
  },
  {
   "cell_type": "code",
   "execution_count": 120,
   "id": "b0589f4a",
   "metadata": {},
   "outputs": [],
   "source": [
    "ens7 = compute_ens_result7(y_pred_rf,y_pred_bagging,y_pred_gboost)"
   ]
  },
  {
   "cell_type": "code",
   "execution_count": 121,
   "id": "6d8db164",
   "metadata": {},
   "outputs": [
    {
     "data": {
      "text/plain": [
       "array([[15,  0,  0,  0],\n",
       "       [ 5,  6,  1,  0],\n",
       "       [ 0,  0,  9,  0],\n",
       "       [ 0,  0,  0,  4]], dtype=int64)"
      ]
     },
     "execution_count": 121,
     "metadata": {},
     "output_type": "execute_result"
    }
   ],
   "source": [
    "confusion_matrix(y_test, ens7)"
   ]
  },
  {
   "cell_type": "code",
   "execution_count": 122,
   "id": "07435bdf",
   "metadata": {},
   "outputs": [],
   "source": [
    "labels = ['B','C','M','X']"
   ]
  },
  {
   "cell_type": "code",
   "execution_count": 123,
   "id": "fd624b27",
   "metadata": {},
   "outputs": [],
   "source": [
    "from sklearn.metrics import multilabel_confusion_matrix\n",
    "from sklearn.metrics import accuracy_score"
   ]
  },
  {
   "cell_type": "code",
   "execution_count": 124,
   "id": "51a48ed7",
   "metadata": {},
   "outputs": [],
   "source": [
    "def log_cv_report(y_true, y_pred):\n",
    "    labels = ['B','C','M','X']\n",
    "    r = multilabel_confusion_matrix(y_true, y_pred,labels=labels)\n",
    "    pm={}\n",
    "    \n",
    "    for i in range(len(labels)):\n",
    "        l = labels[i]\n",
    "        c = {}\n",
    "        cm = r[i]\n",
    "        c['TN'] = cm[0][0]\n",
    "        c['FN'] = cm[1][0]\n",
    "        c['TP'] = cm[1][1]\n",
    "        c['FP'] = cm[0][1]\n",
    "        c['T'] = cm.sum()\n",
    "        if (c['FP'] == 0):\n",
    "            c['TN'] = c['TN'] - 1\n",
    "            c['FP'] = 1\n",
    "        if (c['FN'] == 0):\n",
    "            c['TP'] = c['TP'] - 1\n",
    "            c['FN'] = 1\n",
    "                  \n",
    "        pm[l] = calc_metrics(c['TP'],c['TN'],c['FP'],c['FN'])\n",
    "        \n",
    "    ac = accuracy_score(y_true, y_pred)\n",
    "    print('Prediction accuracy: ',ac)\n",
    "    return pm;"
   ]
  },
  {
   "cell_type": "code",
   "execution_count": 125,
   "id": "26de41b1",
   "metadata": {},
   "outputs": [],
   "source": [
    "def truncate_float(number, digits=4) -> float:\n",
    "    try :\n",
    "        if math.isnan(number):\n",
    "            return 0.0\n",
    "        stepper = 10.0 ** digits\n",
    "        return math.trunc(stepper * number) / stepper\n",
    "    except Exception as e:\n",
    "        return number"
   ]
  },
  {
   "cell_type": "code",
   "execution_count": 126,
   "id": "2a12c032",
   "metadata": {},
   "outputs": [],
   "source": [
    "def calc_metrics(TP,TN,FP,FN):\n",
    "    P = TP + FN \n",
    "    N = TN + FP\n",
    "    T = N + P \n",
    "    accuracy = 0\n",
    "    balanced_accuracy = 0 \n",
    "    precision = 0 \n",
    "    recall = 0 \n",
    "    TSS = 0 \n",
    "    \n",
    "\n",
    "    accuracy = (TP+TN) / (TP+FP+TN+FN)\n",
    "    BACC =  ( (TP/(TP + FN)) + (TN/(TN + FP)) ) /2\n",
    "    TPR = TP/(TP+FN)\n",
    "    FPR = FP/(FP+TN)\n",
    "    precision = TP / (TP + FP)\n",
    "    recall = TP / (TP  + FN) \n",
    "    TSS = (TP/(TP+FN)) - (FP/(FP+TN))\n",
    "\n",
    "\n",
    "    return [truncate_float(BACC),truncate_float(TSS)]"
   ]
  },
  {
   "cell_type": "code",
   "execution_count": 127,
   "id": "227414df",
   "metadata": {},
   "outputs": [
    {
     "name": "stdout",
     "output_type": "stream",
     "text": [
      "Prediction accuracy:  0.825\n"
     ]
    },
    {
     "data": {
      "text/plain": [
       "{'B': [0.8666666666666667, 0.7333333333333334],\n",
       " 'C': [0.7321428571428572, 0.4642857142857143],\n",
       " 'M': [0.9283154121863799, 0.8566308243727598],\n",
       " 'X': [0.8611111111111112, 0.7222222222222222]}"
      ]
     },
     "execution_count": 127,
     "metadata": {},
     "output_type": "execute_result"
    }
   ],
   "source": [
    "BACC_TSS_BCMX = log_cv_report(y_test,ens)\n",
    "BACC_TSS_BCMX"
   ]
  },
  {
   "cell_type": "code",
   "execution_count": 128,
   "id": "c1a1fc39",
   "metadata": {},
   "outputs": [
    {
     "name": "stdout",
     "output_type": "stream",
     "text": [
      "Prediction accuracy:  0.85\n"
     ]
    },
    {
     "data": {
      "text/plain": [
       "{'B': [0.8666666666666667, 0.7333333333333334],\n",
       " 'C': [0.7321428571428572, 0.4642857142857143],\n",
       " 'M': [0.9283154121863799, 0.8566308243727598],\n",
       " 'X': [0.8611111111111112, 0.7222222222222222]}"
      ]
     },
     "execution_count": 128,
     "metadata": {},
     "output_type": "execute_result"
    }
   ],
   "source": [
    "BACC_TSS_BCMX = log_cv_report(y_test,y_pred_rf)\n",
    "BACC_TSS_BCMX"
   ]
  },
  {
   "cell_type": "code",
   "execution_count": 129,
   "id": "97eb4642",
   "metadata": {},
   "outputs": [
    {
     "name": "stdout",
     "output_type": "stream",
     "text": [
      "Prediction accuracy:  0.55\n"
     ]
    },
    {
     "data": {
      "text/plain": [
       "{'B': [0.78, 0.5599999999999999],\n",
       " 'C': [0.6130952380952381, 0.22619047619047622],\n",
       " 'M': [0.5627240143369175, 0.12544802867383512],\n",
       " 'X': [0.8194444444444444, 0.6388888888888888]}"
      ]
     },
     "execution_count": 129,
     "metadata": {},
     "output_type": "execute_result"
    }
   ],
   "source": [
    "BACC_TSS_BCMX = log_cv_report(y_test,y_pred_knn)\n",
    "BACC_TSS_BCMX"
   ]
  },
  {
   "cell_type": "code",
   "execution_count": 130,
   "id": "5d79ab6b",
   "metadata": {},
   "outputs": [
    {
     "name": "stdout",
     "output_type": "stream",
     "text": [
      "Prediction accuracy:  0.575\n"
     ]
    },
    {
     "data": {
      "text/plain": [
       "{'B': [0.6866666666666666, 0.3733333333333333],\n",
       " 'C': [0.6130952380952381, 0.22619047619047616],\n",
       " 'M': [0.5949820788530467, 0.18996415770609318],\n",
       " 'X': [0.7361111111111112, 0.4722222222222222]}"
      ]
     },
     "execution_count": 130,
     "metadata": {},
     "output_type": "execute_result"
    }
   ],
   "source": [
    "BACC_TSS_BCMX = log_cv_report(y_test,y_pred_nb)\n",
    "BACC_TSS_BCMX"
   ]
  },
  {
   "cell_type": "code",
   "execution_count": 131,
   "id": "22e81a69",
   "metadata": {},
   "outputs": [
    {
     "name": "stdout",
     "output_type": "stream",
     "text": [
      "Prediction accuracy:  0.5\n"
     ]
    },
    {
     "data": {
      "text/plain": [
       "{'B': [0.7466666666666667, 0.49333333333333335],\n",
       " 'C': [0.47023809523809523, -0.05952380952380952],\n",
       " 'M': [0.546594982078853, 0.09318996415770608],\n",
       " 'X': [0.8611111111111112, 0.7222222222222222]}"
      ]
     },
     "execution_count": 131,
     "metadata": {},
     "output_type": "execute_result"
    }
   ],
   "source": [
    "BACC_TSS_BCMX = log_cv_report(y_test,y_pred_svm)\n",
    "BACC_TSS_BCMX"
   ]
  },
  {
   "cell_type": "code",
   "execution_count": 132,
   "id": "dd79d764",
   "metadata": {},
   "outputs": [
    {
     "name": "stdout",
     "output_type": "stream",
     "text": [
      "Prediction accuracy:  0.375\n"
     ]
    },
    {
     "data": {
      "text/plain": [
       "{'B': [0.4666666666666667, -0.06666666666666665],\n",
       " 'C': [0.48214285714285715, -0.03571428571428571],\n",
       " 'M': [0.4838709677419355, -0.03225806451612903],\n",
       " 'X': [0.4861111111111111, -0.027777777777777776]}"
      ]
     },
     "execution_count": 132,
     "metadata": {},
     "output_type": "execute_result"
    }
   ],
   "source": [
    "BACC_TSS_BCMX = log_cv_report(y_test,y_pred_mlp)\n",
    "BACC_TSS_BCMX"
   ]
  },
  {
   "cell_type": "code",
   "execution_count": 133,
   "id": "641167a2",
   "metadata": {},
   "outputs": [
    {
     "name": "stdout",
     "output_type": "stream",
     "text": [
      "Prediction accuracy:  0.85\n"
     ]
    },
    {
     "data": {
      "text/plain": [
       "{'B': [0.8666666666666667, 0.7333333333333334],\n",
       " 'C': [0.7321428571428572, 0.4642857142857143],\n",
       " 'M': [0.9283154121863799, 0.8566308243727598],\n",
       " 'X': [0.8611111111111112, 0.7222222222222222]}"
      ]
     },
     "execution_count": 133,
     "metadata": {},
     "output_type": "execute_result"
    }
   ],
   "source": [
    "BACC_TSS_BCMX = log_cv_report(y_test,y_pred_rf_flare)\n",
    "BACC_TSS_BCMX"
   ]
  },
  {
   "cell_type": "code",
   "execution_count": 134,
   "id": "62c6a7ce",
   "metadata": {},
   "outputs": [
    {
     "name": "stdout",
     "output_type": "stream",
     "text": [
      "Prediction accuracy:  0.475\n"
     ]
    },
    {
     "data": {
      "text/plain": [
       "{'B': [0.8133333333333332, 0.6266666666666666],\n",
       " 'C': [0.5714285714285714, 0.14285714285714285],\n",
       " 'M': [0.5125448028673836, 0.025089605734766984],\n",
       " 'X': [0.6944444444444444, 0.3888888888888889]}"
      ]
     },
     "execution_count": 134,
     "metadata": {},
     "output_type": "execute_result"
    }
   ],
   "source": [
    "BACC_TSS_BCMX = log_cv_report(y_test,y_pred_elm)\n",
    "BACC_TSS_BCMX"
   ]
  },
  {
   "cell_type": "code",
   "execution_count": 135,
   "id": "581e5b3d",
   "metadata": {},
   "outputs": [
    {
     "name": "stdout",
     "output_type": "stream",
     "text": [
      "Prediction accuracy:  0.85\n"
     ]
    },
    {
     "data": {
      "text/plain": [
       "{'B': [0.8666666666666667, 0.7333333333333334],\n",
       " 'C': [0.7321428571428572, 0.4642857142857143],\n",
       " 'M': [0.9283154121863799, 0.8566308243727598],\n",
       " 'X': [0.8611111111111112, 0.7222222222222222]}"
      ]
     },
     "execution_count": 135,
     "metadata": {},
     "output_type": "execute_result"
    }
   ],
   "source": [
    "BACC_TSS_BCMX = log_cv_report(y_test,ens2)\n",
    "BACC_TSS_BCMX"
   ]
  },
  {
   "cell_type": "code",
   "execution_count": 136,
   "id": "df62a792",
   "metadata": {},
   "outputs": [
    {
     "name": "stdout",
     "output_type": "stream",
     "text": [
      "Prediction accuracy:  0.85\n"
     ]
    },
    {
     "data": {
      "text/plain": [
       "{'B': [0.8666666666666667, 0.7333333333333334],\n",
       " 'C': [0.7321428571428572, 0.4642857142857143],\n",
       " 'M': [0.9283154121863799, 0.8566308243727598],\n",
       " 'X': [0.8611111111111112, 0.7222222222222222]}"
      ]
     },
     "execution_count": 136,
     "metadata": {},
     "output_type": "execute_result"
    }
   ],
   "source": [
    "BACC_TSS_BCMX = log_cv_report(y_test,y_pred_bagging)\n",
    "BACC_TSS_BCMX"
   ]
  },
  {
   "cell_type": "code",
   "execution_count": 137,
   "id": "47669067",
   "metadata": {},
   "outputs": [
    {
     "name": "stdout",
     "output_type": "stream",
     "text": [
      "Prediction accuracy:  0.825\n"
     ]
    },
    {
     "data": {
      "text/plain": [
       "{'B': [0.8466666666666667, 0.6933333333333334],\n",
       " 'C': [0.6904761904761905, 0.380952380952381],\n",
       " 'M': [0.9283154121863799, 0.8566308243727598],\n",
       " 'X': [0.8611111111111112, 0.7222222222222222]}"
      ]
     },
     "execution_count": 137,
     "metadata": {},
     "output_type": "execute_result"
    }
   ],
   "source": [
    "BACC_TSS_BCMX = log_cv_report(y_test,ens3)\n",
    "BACC_TSS_BCMX"
   ]
  },
  {
   "cell_type": "code",
   "execution_count": 138,
   "id": "60cb1c9c",
   "metadata": {},
   "outputs": [
    {
     "name": "stdout",
     "output_type": "stream",
     "text": [
      "Prediction accuracy:  0.875\n"
     ]
    },
    {
     "data": {
      "text/plain": [
       "{'B': [0.8866666666666667, 0.7733333333333333],\n",
       " 'C': [0.7738095238095238, 0.5476190476190477],\n",
       " 'M': [0.9283154121863799, 0.8566308243727598],\n",
       " 'X': [0.8611111111111112, 0.7222222222222222]}"
      ]
     },
     "execution_count": 138,
     "metadata": {},
     "output_type": "execute_result"
    }
   ],
   "source": [
    "BACC_TSS_BCMX = log_cv_report(y_test,ens4)\n",
    "BACC_TSS_BCMX"
   ]
  },
  {
   "cell_type": "code",
   "execution_count": 139,
   "id": "8ec41833",
   "metadata": {},
   "outputs": [
    {
     "name": "stdout",
     "output_type": "stream",
     "text": [
      "Prediction accuracy:  0.825\n"
     ]
    },
    {
     "data": {
      "text/plain": [
       "{'B': [0.8466666666666667, 0.6933333333333334],\n",
       " 'C': [0.6904761904761905, 0.380952380952381],\n",
       " 'M': [0.9283154121863799, 0.8566308243727598],\n",
       " 'X': [0.8611111111111112, 0.7222222222222222]}"
      ]
     },
     "execution_count": 139,
     "metadata": {},
     "output_type": "execute_result"
    }
   ],
   "source": [
    "BACC_TSS_BCMX = log_cv_report(y_test,ens5)\n",
    "BACC_TSS_BCMX"
   ]
  },
  {
   "cell_type": "code",
   "execution_count": 140,
   "id": "891ec735",
   "metadata": {},
   "outputs": [
    {
     "name": "stdout",
     "output_type": "stream",
     "text": [
      "Prediction accuracy:  0.85\n"
     ]
    },
    {
     "data": {
      "text/plain": [
       "{'B': [0.8666666666666667, 0.7333333333333334],\n",
       " 'C': [0.7321428571428572, 0.4642857142857143],\n",
       " 'M': [0.9283154121863799, 0.8566308243727598],\n",
       " 'X': [0.8611111111111112, 0.7222222222222222]}"
      ]
     },
     "execution_count": 140,
     "metadata": {},
     "output_type": "execute_result"
    }
   ],
   "source": [
    "BACC_TSS_BCMX = log_cv_report(y_test,ens6)\n",
    "BACC_TSS_BCMX"
   ]
  },
  {
   "cell_type": "code",
   "execution_count": 141,
   "id": "13670eaa",
   "metadata": {},
   "outputs": [
    {
     "name": "stdout",
     "output_type": "stream",
     "text": [
      "Prediction accuracy:  0.85\n"
     ]
    },
    {
     "data": {
      "text/plain": [
       "{'B': [0.8666666666666667, 0.7333333333333334],\n",
       " 'C': [0.7321428571428572, 0.4642857142857143],\n",
       " 'M': [0.9283154121863799, 0.8566308243727598],\n",
       " 'X': [0.8611111111111112, 0.7222222222222222]}"
      ]
     },
     "execution_count": 141,
     "metadata": {},
     "output_type": "execute_result"
    }
   ],
   "source": [
    "BACC_TSS_BCMX = log_cv_report(y_test,ens7)\n",
    "BACC_TSS_BCMX"
   ]
  },
  {
   "cell_type": "code",
   "execution_count": 142,
   "id": "d8903c38",
   "metadata": {},
   "outputs": [
    {
     "name": "stdout",
     "output_type": "stream",
     "text": [
      "Prediction accuracy:  0.575\n"
     ]
    },
    {
     "data": {
      "text/plain": [
       "{'B': [0.7466666666666667, 0.49333333333333335],\n",
       " 'C': [0.5654761904761905, 0.13095238095238093],\n",
       " 'M': [0.6021505376344086, 0.2043010752688172],\n",
       " 'X': [0.8472222222222222, 0.6944444444444444]}"
      ]
     },
     "execution_count": 142,
     "metadata": {},
     "output_type": "execute_result"
    }
   ],
   "source": [
    "BACC_TSS_BCMX = log_cv_report(y_test,y_pred_adaboost)\n",
    "BACC_TSS_BCMX"
   ]
  },
  {
   "cell_type": "code",
   "execution_count": 143,
   "id": "83ae3a45",
   "metadata": {},
   "outputs": [
    {
     "name": "stdout",
     "output_type": "stream",
     "text": [
      "Prediction accuracy:  0.825\n"
     ]
    },
    {
     "data": {
      "text/plain": [
       "{'B': [0.8666666666666667, 0.7333333333333334],\n",
       " 'C': [0.6904761904761905, 0.380952380952381],\n",
       " 'M': [0.9121863799283154, 0.8243727598566308],\n",
       " 'X': [0.8611111111111112, 0.7222222222222222]}"
      ]
     },
     "execution_count": 143,
     "metadata": {},
     "output_type": "execute_result"
    }
   ],
   "source": [
    "BACC_TSS_BCMX = log_cv_report(y_test,y_pred_gboost)\n",
    "BACC_TSS_BCMX"
   ]
  },
  {
   "cell_type": "code",
   "execution_count": 144,
   "id": "6b6e446f",
   "metadata": {},
   "outputs": [
    {
     "data": {
      "image/png": "[encoded data removed]",
      "text/plain": [
       "<Figure size 720x360 with 1 Axes>"
      ]
     },
     "metadata": {
      "needs_background": "light"
     },
     "output_type": "display_data"
    }
   ],
   "source": [
    "import numpy as np\n",
    "import matplotlib.pyplot as plt\n",
    "  \n",
    "# creating the dataset\n",
    "data = {'B':0.8666666666666667, 'C':0.7321428571428572, 'M':0.9283154121863799,\n",
    "        'X':0.8611111111111112}\n",
    "courses = list(data.keys())\n",
    "values = list(data.values())\n",
    "  \n",
    "fig = plt.figure(figsize = (10, 5))\n",
    " \n",
    "# creating the bar plot\n",
    "plt.bar(courses, values, color ='maroon',\n",
    "        width = 0.4)\n",
    " \n",
    "plt.xlabel(\"Flare Classes\")\n",
    "plt.ylabel(\"\")\n",
    "plt.title(\"Prediction result for Algorithm: ENS (BACC)\")\n",
    "plt.show()"
   ]
  },
  {
   "cell_type": "code",
   "execution_count": 145,
   "id": "9811f857",
   "metadata": {},
   "outputs": [
    {
     "data": {
      "image/png": "[encoded data removed]",
      "text/plain": [
       "<Figure size 720x360 with 1 Axes>"
      ]
     },
     "metadata": {
      "needs_background": "light"
     },
     "output_type": "display_data"
    }
   ],
   "source": [
    "data = {'B':0.7333333333333334, 'C':0.7440476190476191, 'M':0.9283154121863799,\n",
    "        'X':0.8611111111111112}\n",
    "courses = list(data.keys())\n",
    "values = list(data.values())\n",
    "  \n",
    "fig = plt.figure(figsize = (10, 5))\n",
    " \n",
    "# creating the bar plot\n",
    "plt.bar(courses, values, color ='maroon',\n",
    "        width = 0.3)\n",
    " \n",
    "plt.xlabel(\"Flare Classes\")\n",
    "plt.ylabel(\"\")\n",
    "plt.ylim(0,1)\n",
    "plt.title(\"Prediction result for Algorithm: ENS (TSS)\")\n",
    "plt.show()"
   ]
  },
  {
   "cell_type": "markdown",
   "id": "c3316ab0",
   "metadata": {},
   "source": [
    "# Prediction Result for ENS( RF, MLP, ELM) BACC"
   ]
  },
  {
   "cell_type": "code",
   "execution_count": 146,
   "id": "fd4ed50f",
   "metadata": {},
   "outputs": [
    {
     "data": {
      "image/png": "[encoded data removed]",
      "text/plain": [
       "<Figure size 720x360 with 1 Axes>"
      ]
     },
     "metadata": {
      "needs_background": "light"
     },
     "output_type": "display_data"
    }
   ],
   "source": [
    "import numpy as np\n",
    "import matplotlib.pyplot as plt\n",
    "  \n",
    "# creating the dataset\n",
    "data = {'B':0.8066666666666666, 'C':0.5654761904761905, 'M':0.7831541218637992,\n",
    "        'X':0.8611111111111112}\n",
    "courses = list(data.keys())\n",
    "values = list(data.values())\n",
    "  \n",
    "fig = plt.figure(figsize = (10, 5))\n",
    " \n",
    "# creating the bar plot\n",
    "plt.bar(courses, values, color ='maroon',\n",
    "        width = 0.4)\n",
    " \n",
    "plt.xlabel(\"Flare Classes\")\n",
    "plt.ylabel(\"\")\n",
    "plt.title(\"Prediction result for Algorithm: ENS (BACC)\")\n",
    "plt.show()"
   ]
  },
  {
   "cell_type": "code",
   "execution_count": 147,
   "id": "a8428f03",
   "metadata": {},
   "outputs": [
    {
     "data": {
      "image/png": "[encoded data removed]",
      "text/plain": [
       "<Figure size 720x360 with 1 Axes>"
      ]
     },
     "metadata": {
      "needs_background": "light"
     },
     "output_type": "display_data"
    }
   ],
   "source": [
    "data = {'B':0.6133333333333333, 'C':0.488095238095238, 'M':0.8566308243727598,\n",
    "        'X':0.7222222222222222}\n",
    "courses = list(data.keys())\n",
    "values = list(data.values())\n",
    "  \n",
    "fig = plt.figure(figsize = (10, 5))\n",
    " \n",
    "# creating the bar plot\n",
    "plt.bar(courses, values, color ='maroon',\n",
    "        width = 0.3)\n",
    " \n",
    "plt.xlabel(\"Flare Classes\")\n",
    "plt.ylabel(\"\")\n",
    "plt.ylim(0,1)\n",
    "plt.title(\"Prediction result for Algorithm: ENS (TSS)\")\n",
    "plt.show()"
   ]
  },
  {
   "cell_type": "code",
   "execution_count": 148,
   "id": "b08d6b01",
   "metadata": {},
   "outputs": [
    {
     "data": {
      "image/png": "[encoded data removed]",
      "text/plain": [
       "<Figure size 720x360 with 1 Axes>"
      ]
     },
     "metadata": {
      "needs_background": "light"
     },
     "output_type": "display_data"
    }
   ],
   "source": [
    "N = 4\n",
    "import numpy as np\n",
    "# Data on X-axis\n",
    "data = {'B':0.8666666666666667, 'C':0.7321428571428572, 'M':0.9283154121863799,\n",
    "        'X':0.8611111111111112}\n",
    "data2 = {'B':0.8066666666666666, 'C':0.5654761904761905, 'M':0.7831541218637992,\n",
    "        'X':0.8611111111111112}\n",
    "# Specify the values of blue bars (height)\n",
    "blue_bar = data.values()\n",
    "# Specify the values of orange bars (height)\n",
    "orange_bar = data2.values()\n",
    "\n",
    "# Position of bars on x-axis\n",
    "ind = np.arange(N)\n",
    "\n",
    "# Figure size\n",
    "plt.figure(figsize=(10,5))\n",
    "\n",
    "# Width of a bar \n",
    "width = 0.3       \n",
    "\n",
    "# Plotting\n",
    "plt.bar(ind, orange_bar , width, label='BACC values for ENS with RF, MLP, ELM (Paper Model)')\n",
    "plt.axis([-0.5,4,0,1.2])\n",
    "plt.bar(ind + width, blue_bar, width, label='BACC values for ENS with RF, KNN, NB (My Model)')\n",
    "plt.legend()\n",
    "plt.xlabel('Flare Classes')\n",
    "plt.title('BACC values for ENS')\n",
    "\n",
    "# xticks()\n",
    "# First argument - A list of positions at which ticks should be placed\n",
    "# Second argument -  A list of labels to place at the given locations\n",
    "plt.xticks(ind + width / 2, ('B', 'C', 'M','X'))\n",
    "\n",
    "# Finding the best position for legends and putting it\n",
    "plt.legend(loc='best')\n",
    "plt.show()"
   ]
  },
  {
   "cell_type": "code",
   "execution_count": 149,
   "id": "560062b3",
   "metadata": {},
   "outputs": [
    {
     "data": {
      "image/png": "[encoded data removed]",
      "text/plain": [
       "<Figure size 720x360 with 1 Axes>"
      ]
     },
     "metadata": {
      "needs_background": "light"
     },
     "output_type": "display_data"
    }
   ],
   "source": [
    "N = 4\n",
    "import numpy as np\n",
    "# Data on X-axis\n",
    "data = {'B':0.7333333333333334, 'C':0.7440476190476191, 'M':0.9283154121863799,\n",
    "        'X':0.8611111111111112}\n",
    "data2 = {'B':0.6133333333333333, 'C':0.488095238095238, 'M':0.8566308243727598,\n",
    "        'X':0.7222222222222222}\n",
    "# Specify the values of blue bars (height)\n",
    "blue_bar = data.values()\n",
    "# Specify the values of orange bars (height)\n",
    "orange_bar = data2.values()\n",
    "\n",
    "# Position of bars on x-axis\n",
    "ind = np.arange(N)\n",
    "\n",
    "# Figure size\n",
    "plt.figure(figsize=(10,5))\n",
    "\n",
    "# Width of a bar \n",
    "width = 0.3       \n",
    "\n",
    "# Plotting\n",
    "plt.bar(ind, orange_bar , width, label='TSS values for ENS with RF, MLP, ELM (Paper Model)')\n",
    "plt.axis([-0.5,4,0,1.2])\n",
    "plt.bar(ind + width, blue_bar, width, label='TSS values for ENS with RF, KNN, NB (My Model)')\n",
    "plt.legend()\n",
    "plt.xlabel('Flare Classes')\n",
    "plt.title('TSS values for ENS')\n",
    "\n",
    "# xticks()\n",
    "# First argument - A list of positions at which ticks should be placed\n",
    "# Second argument -  A list of labels to place at the given locations\n",
    "plt.xticks(ind + width / 2, ('B', 'C', 'M','X'))\n",
    "\n",
    "# Finding the best position for legends and putting it\n",
    "plt.legend(loc='best')\n",
    "plt.show()"
   ]
  },
  {
   "cell_type": "code",
   "execution_count": null,
   "id": "daab928d",
   "metadata": {},
   "outputs": [],
   "source": []
  },
  {
   "cell_type": "code",
   "execution_count": null,
   "id": "c995405d",
   "metadata": {},
   "outputs": [],
   "source": []
  },
  {
   "cell_type": "code",
   "execution_count": null,
   "id": "b3513476",
   "metadata": {},
   "outputs": [],
   "source": []
  }
 ],
 "metadata": {
  "kernelspec": {
   "display_name": "Python 3 (ipykernel)",
   "language": "python",
   "name": "python3"
  },
  "language_info": {
   "codemirror_mode": {
    "name": "ipython",
    "version": 3
   },
   "file_extension": ".py",
   "mimetype": "text/x-python",
   "name": "python",
   "nbconvert_exporter": "python",
   "pygments_lexer": "ipython3",
   "version": "3.7.4"
  }
 },
 "nbformat": 4,
 "nbformat_minor": 5
}
